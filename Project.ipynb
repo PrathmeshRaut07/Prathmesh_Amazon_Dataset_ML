{
 "cells": [
  {
   "cell_type": "code",
   "execution_count": 1,
   "id": "358b0716",
   "metadata": {},
   "outputs": [
    {
     "name": "stderr",
     "output_type": "stream",
     "text": [
      "C:\\Users\\HP\\AppData\\Local\\Temp\\ipykernel_4780\\1787674596.py:3: DtypeWarning: Columns (5,6,14,15,16,17,18,19,20,21,22,23,24,25,26,27,28,29,30,31,32,33,34,35,36,37,38,39,40,41,42,43,44,45,46,47,48,49,50,51,52,53,54,55,56,57,58,59,60,61,62,63,64,65,66,67,68,69,70,71,72,73,74,75,76,77,78,79,80,81,82,83,84,85,86,87,88,89,90,91,92,93,94,95,96,97,98,99,100,101,102,103,104,105,106,107,108,109,110,111,112,113,114,115,116,117,118,119,120,121,122,123,124,125,126,127,128,129,130,131,132,133,134,135,136,137,138,139,140,141,142,143,144,145,146,147,148,149,150,151,152,153,154,155,156,157,158,159,160,161,162,163,164,165,166,167,168,169,170,171,172,173,174,175,176,177,178,179,180,181,182,183,184,185,186,187,188,189,190,191,192,193,194,195,196,197,198,199,200,201,202,203,204,205,206,207,208,209,210,211,212,213,214,215,216,217,218,219,220,221,222,223,224,225,226,227,228,229,230,231,232,233,234,235,236,237,238,239,240,241,242,243,244,245,246,247,248,249,250,251,252,253,254,255,256,257,258,259,260,261,262,263,264,265,266,267,268,269,270,271,272,273,274,275,276,277,278,279,280,281,282,283,284,285,286,287,288,289,290,291,292,293,294,295,296,297,298,299,300,301,302,303,304,305,306,307,308,309,310,311,312,313,314,315,316,317,318,319,320,321,322,323,324,325,326,327,328,329,330,331,332,333,334,335,336,337,338,339,340,341,342,343,344,345,346,347,348,349,350,351,352,353,354,355,356,357,358,359,360,361,362,363,364,365,366,367,368,369,370,371,372,373,374,375,376,377,378,379,380,381,382,383,384,385,386,387,388,389,390,391,392,393,394,395,396,397,398,399,400,401,402,403,404,405,406,407,408,409,410,411,412,413,414,415,416,417,418,419,420,421,422,423,424,425,426,427,428,429,430,431,432,433,434,435,436,437,438,439,440,441,442,443,444,445,446,447,448,449,450,451,452,453,454,455,456,457,458,459,460,461,462,463,464,465,466,467,468,469,470,471,472,473,474,475,476,477,478,479,480,481,482,483,484,485,486,487,488,489,490,491,492,493,494,495,496,497,498,499,500,501,502,503,504,505,506,507,508,509,510,511,512,513,514,515,516,517,518,519,520,521,522,523,524,525,526,527,528,529,530,531,532,533,534,535,536,537,538,539,540,541,542,543,544,545,546,547,548,549,550,551,552,553,554,555,556,557,558,559,560,561,562,563,564,565,566,567,568,569,570,571,572,573,574,575,576,577,578,579,580,581,582,583,584,585,586,587,588,589,590,591,592,593,594,595,596,597,598,599,600,601,602,603,604,605,606,607,608,609,610,611,612,613,614,615,616,617,618,619,620,621,622,623,624,625,626,627,628,629,630,631,632,633,634,635,636,637,638,639,640,641,642,643,644,645,646,647,648,649,650,651,652,653,654,655,656,657,658,659,660,661,662,663,664,665,666,667,668,669,670,671,672,673,674,675,676,677,678,679,680,681,682,683,684,685,686,687,688,689,690,691,692,693,694,695,696,697,698,699,700,701,702,703,704,705,706,707,708,709,710,711,712,713,714,715,716,717,718,719,720,721,722,723,724,725,726,727,728,729,730,731,732,733,734,735,736,737,738,739,740,741,742,743,744,745,746,747,748,749,750,751,752,753,754,755,756,757,758,759,760,761,762,763,764,765,766,767,768,769,770,771,772,773,774,775,776,777,778,779,780,781,782,783,784,785,786,787,788,789,790,791,792,793,794,795,796,797,798,799,800,801,802,803,804,805,806,807,808,809,810,811,812,813,814,815,816,817,818,819,820,821,822,823,824,825,826,827,828,829,830,831,832,833,834,835,836,837,838,839,840,841,842,843,844,845,846,847,848,849,850,851,852,853,854,855,856,857,858,859,860,861,862,863,864,865,866,867,868,869,870,871,872,873,874,875,876,877,878,879,880,881,882,883,884,885,886,887,888,889,890,891,892,893,894) have mixed types. Specify dtype option on import or set low_memory=False.\n",
      "  df=pd.read_csv('Amazon_Products.csv')\n"
     ]
    }
   ],
   "source": [
    "import pandas as pd\n",
    "import seaborn as sns\n",
    "df=pd.read_csv('Amazon_Products.csv')"
   ]
  },
  {
   "cell_type": "markdown",
   "id": "63e855d6",
   "metadata": {},
   "source": [
    "# Dealing will null values and delecting unncessary columns "
   ]
  },
  {
   "cell_type": "code",
   "execution_count": 2,
   "id": "1e46346b",
   "metadata": {},
   "outputs": [
    {
     "data": {
      "text/html": [
       "<div>\n",
       "<style scoped>\n",
       "    .dataframe tbody tr th:only-of-type {\n",
       "        vertical-align: middle;\n",
       "    }\n",
       "\n",
       "    .dataframe tbody tr th {\n",
       "        vertical-align: top;\n",
       "    }\n",
       "\n",
       "    .dataframe thead th {\n",
       "        text-align: right;\n",
       "    }\n",
       "</style>\n",
       "<table border=\"1\" class=\"dataframe\">\n",
       "  <thead>\n",
       "    <tr style=\"text-align: right;\">\n",
       "      <th></th>\n",
       "      <th>uniq_id</th>\n",
       "      <th>product_name</th>\n",
       "      <th>manufacturer</th>\n",
       "      <th>price</th>\n",
       "      <th>number_available_in_stock</th>\n",
       "      <th>number_of_reviews</th>\n",
       "      <th>number_of_answered_questions</th>\n",
       "      <th>average_review_rating</th>\n",
       "      <th>amazon_category_and_sub_category</th>\n",
       "      <th>description</th>\n",
       "      <th>...</th>\n",
       "      <th>Unnamed: 885</th>\n",
       "      <th>Unnamed: 886</th>\n",
       "      <th>Unnamed: 887</th>\n",
       "      <th>Unnamed: 888</th>\n",
       "      <th>Unnamed: 889</th>\n",
       "      <th>Unnamed: 890</th>\n",
       "      <th>Unnamed: 891</th>\n",
       "      <th>Unnamed: 892</th>\n",
       "      <th>Unnamed: 893</th>\n",
       "      <th>Unnamed: 894</th>\n",
       "    </tr>\n",
       "  </thead>\n",
       "  <tbody>\n",
       "    <tr>\n",
       "      <th>0</th>\n",
       "      <td>eac7efa5dbd3d667f26eb3d3ab504464</td>\n",
       "      <td>Hornby 2014 Catalogue</td>\n",
       "      <td>Hornby</td>\n",
       "      <td>£3.42</td>\n",
       "      <td>5 new</td>\n",
       "      <td>15.0</td>\n",
       "      <td>1.0</td>\n",
       "      <td>4.9 out of 5 stars</td>\n",
       "      <td>Hobbies &gt; Model Trains &amp; Railway Sets &gt; Rail V...</td>\n",
       "      <td>Product Description Hornby 2014 Catalogue Box ...</td>\n",
       "      <td>...</td>\n",
       "      <td>NaN</td>\n",
       "      <td>NaN</td>\n",
       "      <td>NaN</td>\n",
       "      <td>NaN</td>\n",
       "      <td>NaN</td>\n",
       "      <td>NaN</td>\n",
       "      <td>NaN</td>\n",
       "      <td>NaN</td>\n",
       "      <td>NaN</td>\n",
       "      <td>NaN</td>\n",
       "    </tr>\n",
       "    <tr>\n",
       "      <th>1</th>\n",
       "      <td>b17540ef7e86e461d37f3ae58b7b72ac</td>\n",
       "      <td>FunkyBuys® Large Christmas Holiday Express Fes...</td>\n",
       "      <td>FunkyBuys</td>\n",
       "      <td>£16.99</td>\n",
       "      <td>NaN</td>\n",
       "      <td>2.0</td>\n",
       "      <td>1.0</td>\n",
       "      <td>4.5 out of 5 stars</td>\n",
       "      <td>Hobbies &gt; Model Trains &amp; Railway Sets &gt; Rail V...</td>\n",
       "      <td>Size Name:Large FunkyBuys® Large Christmas Hol...</td>\n",
       "      <td>...</td>\n",
       "      <td>NaN</td>\n",
       "      <td>NaN</td>\n",
       "      <td>NaN</td>\n",
       "      <td>NaN</td>\n",
       "      <td>NaN</td>\n",
       "      <td>NaN</td>\n",
       "      <td>NaN</td>\n",
       "      <td>NaN</td>\n",
       "      <td>NaN</td>\n",
       "      <td>NaN</td>\n",
       "    </tr>\n",
       "  </tbody>\n",
       "</table>\n",
       "<p>2 rows × 895 columns</p>\n",
       "</div>"
      ],
      "text/plain": [
       "                            uniq_id  \\\n",
       "0  eac7efa5dbd3d667f26eb3d3ab504464   \n",
       "1  b17540ef7e86e461d37f3ae58b7b72ac   \n",
       "\n",
       "                                        product_name manufacturer   price  \\\n",
       "0                              Hornby 2014 Catalogue       Hornby   £3.42   \n",
       "1  FunkyBuys® Large Christmas Holiday Express Fes...    FunkyBuys  £16.99   \n",
       "\n",
       "  number_available_in_stock number_of_reviews number_of_answered_questions  \\\n",
       "0                     5 new              15.0                          1.0   \n",
       "1                       NaN               2.0                          1.0   \n",
       "\n",
       "  average_review_rating                   amazon_category_and_sub_category  \\\n",
       "0    4.9 out of 5 stars  Hobbies > Model Trains & Railway Sets > Rail V...   \n",
       "1    4.5 out of 5 stars  Hobbies > Model Trains & Railway Sets > Rail V...   \n",
       "\n",
       "                                         description  ... Unnamed: 885  \\\n",
       "0  Product Description Hornby 2014 Catalogue Box ...  ...          NaN   \n",
       "1  Size Name:Large FunkyBuys® Large Christmas Hol...  ...          NaN   \n",
       "\n",
       "  Unnamed: 886 Unnamed: 887 Unnamed: 888 Unnamed: 889 Unnamed: 890  \\\n",
       "0          NaN          NaN          NaN          NaN          NaN   \n",
       "1          NaN          NaN          NaN          NaN          NaN   \n",
       "\n",
       "  Unnamed: 891 Unnamed: 892 Unnamed: 893 Unnamed: 894  \n",
       "0          NaN          NaN          NaN          NaN  \n",
       "1          NaN          NaN          NaN          NaN  \n",
       "\n",
       "[2 rows x 895 columns]"
      ]
     },
     "execution_count": 2,
     "metadata": {},
     "output_type": "execute_result"
    }
   ],
   "source": [
    "df.head(2)"
   ]
  },
  {
   "cell_type": "markdown",
   "id": "bbc9d4ee",
   "metadata": {},
   "source": [
    "# Droping Null Values"
   ]
  },
  {
   "cell_type": "code",
   "execution_count": 3,
   "id": "3c858d2b",
   "metadata": {},
   "outputs": [
    {
     "data": {
      "text/plain": [
       "Index(['uniq_id', 'product_name', 'manufacturer', 'price',\n",
       "       'number_available_in_stock', 'number_of_reviews',\n",
       "       'number_of_answered_questions', 'average_review_rating',\n",
       "       'amazon_category_and_sub_category', 'description',\n",
       "       ...\n",
       "       'Unnamed: 885', 'Unnamed: 886', 'Unnamed: 887', 'Unnamed: 888',\n",
       "       'Unnamed: 889', 'Unnamed: 890', 'Unnamed: 891', 'Unnamed: 892',\n",
       "       'Unnamed: 893', 'Unnamed: 894'],\n",
       "      dtype='object', length=895)"
      ]
     },
     "execution_count": 3,
     "metadata": {},
     "output_type": "execute_result"
    }
   ],
   "source": [
    "df.columns.unique()"
   ]
  },
  {
   "cell_type": "code",
   "execution_count": 4,
   "id": "bcb6f6bc",
   "metadata": {},
   "outputs": [
    {
     "data": {
      "text/plain": [
       "uniq_id                                            2\n",
       "product_name                                       2\n",
       "manufacturer                                       9\n",
       "price                                           1437\n",
       "number_available_in_stock                       2502\n",
       "number_of_reviews                                 20\n",
       "number_of_answered_questions                     767\n",
       "average_review_rating                             20\n",
       "amazon_category_and_sub_category                 692\n",
       "description                                      653\n",
       "product_information                               61\n",
       "product_description                              654\n",
       "items_customers_buy_after_viewing_this_item     3068\n",
       "customer_questions_and_answers                  9089\n",
       "Unnamed: 14                                    10002\n",
       "Unnamed: 15                                    10002\n",
       "Unnamed: 16                                    10002\n",
       "Unnamed: 17                                    10002\n",
       "Unnamed: 18                                    10002\n",
       "Unnamed: 19                                    10002\n",
       "dtype: int64"
      ]
     },
     "execution_count": 4,
     "metadata": {},
     "output_type": "execute_result"
    }
   ],
   "source": [
    "df.isna().sum().head(20)"
   ]
  },
  {
   "cell_type": "code",
   "execution_count": 5,
   "id": "5baf8e3b",
   "metadata": {},
   "outputs": [
    {
     "data": {
      "text/plain": [
       "array([nan,\n",
       "       '{\"seller\"=>[{\"Seller_name_1\"=>\"gifttogadget\", \"Seller_price_1\"=>\"£154.99\"}, {\"Seller_name_2\"=>\"Cook N\\' Book International (ONO - MAKE US AN OFFER)\", \"Seller_price_2\"=>\"£289.00\"}]}'],\n",
       "      dtype=object)"
      ]
     },
     "execution_count": 5,
     "metadata": {},
     "output_type": "execute_result"
    }
   ],
   "source": [
    "df['Unnamed: 894'].unique()"
   ]
  },
  {
   "cell_type": "code",
   "execution_count": 6,
   "id": "acf7ffd6",
   "metadata": {},
   "outputs": [
    {
     "data": {
      "text/plain": [
       "0       NaN\n",
       "1       NaN\n",
       "2       NaN\n",
       "3       NaN\n",
       "4       NaN\n",
       "         ..\n",
       "9999    NaN\n",
       "10000   NaN\n",
       "10001   NaN\n",
       "10002   NaN\n",
       "10003   NaN\n",
       "Name: Unnamed: 894, Length: 10004, dtype: float64"
      ]
     },
     "execution_count": 6,
     "metadata": {},
     "output_type": "execute_result"
    }
   ],
   "source": [
    "import numpy as np\n",
    "df['Unnamed: 894'].replace('{\"seller\"=>[{\"Seller_name_1\"=>\"gifttogadget\", \"Seller_price_1\"=>\"£154.99\"}, {\"Seller_name_2\"=>\"Cook N\\' Book International (ONO - MAKE US AN OFFER)\", \"Seller_price_2\"=>\"£289.00\"}]}',np.nan)"
   ]
  },
  {
   "cell_type": "code",
   "execution_count": 7,
   "id": "55b6862a",
   "metadata": {},
   "outputs": [],
   "source": [
    "#each of the columns from 14 to 894 has one or two elements that are not rest all are Nan value hence we need to remove these"
   ]
  },
  {
   "cell_type": "code",
   "execution_count": 8,
   "id": "d50e0176",
   "metadata": {},
   "outputs": [],
   "source": [
    "for i in range(15,895):\n",
    "    column_name='Unnamed: {}'.format(i)\n",
    "    List=df[column_name].unique()\n",
    "    for i in range(1,len(List)):\n",
    "        df[column_name].replace(List[i],np.nan,inplace=True)"
   ]
  },
  {
   "cell_type": "code",
   "execution_count": 9,
   "id": "22a075d9",
   "metadata": {},
   "outputs": [],
   "source": [
    "df.dropna(axis='columns',how='all',inplace=True)\n",
    "df.drop(axis='column',columns=['Unnamed: 14'],inplace=True)"
   ]
  },
  {
   "cell_type": "code",
   "execution_count": 10,
   "id": "7c5b2a96",
   "metadata": {},
   "outputs": [
    {
     "data": {
      "text/html": [
       "<div>\n",
       "<style scoped>\n",
       "    .dataframe tbody tr th:only-of-type {\n",
       "        vertical-align: middle;\n",
       "    }\n",
       "\n",
       "    .dataframe tbody tr th {\n",
       "        vertical-align: top;\n",
       "    }\n",
       "\n",
       "    .dataframe thead th {\n",
       "        text-align: right;\n",
       "    }\n",
       "</style>\n",
       "<table border=\"1\" class=\"dataframe\">\n",
       "  <thead>\n",
       "    <tr style=\"text-align: right;\">\n",
       "      <th></th>\n",
       "      <th>uniq_id</th>\n",
       "      <th>product_name</th>\n",
       "      <th>manufacturer</th>\n",
       "      <th>price</th>\n",
       "      <th>number_available_in_stock</th>\n",
       "      <th>number_of_reviews</th>\n",
       "      <th>number_of_answered_questions</th>\n",
       "      <th>average_review_rating</th>\n",
       "      <th>amazon_category_and_sub_category</th>\n",
       "      <th>description</th>\n",
       "      <th>product_information</th>\n",
       "      <th>product_description</th>\n",
       "      <th>items_customers_buy_after_viewing_this_item</th>\n",
       "      <th>customer_questions_and_answers</th>\n",
       "    </tr>\n",
       "  </thead>\n",
       "  <tbody>\n",
       "    <tr>\n",
       "      <th>0</th>\n",
       "      <td>eac7efa5dbd3d667f26eb3d3ab504464</td>\n",
       "      <td>Hornby 2014 Catalogue</td>\n",
       "      <td>Hornby</td>\n",
       "      <td>£3.42</td>\n",
       "      <td>5 new</td>\n",
       "      <td>15.0</td>\n",
       "      <td>1.0</td>\n",
       "      <td>4.9 out of 5 stars</td>\n",
       "      <td>Hobbies &gt; Model Trains &amp; Railway Sets &gt; Rail V...</td>\n",
       "      <td>Product Description Hornby 2014 Catalogue Box ...</td>\n",
       "      <td>Technical Details Item Weight640 g Product Dim...</td>\n",
       "      <td>Product Description Hornby 2014 Catalogue Box ...</td>\n",
       "      <td>http://www.amazon.co.uk/Hornby-R8150-Catalogue...</td>\n",
       "      <td>Does this catalogue detail all the previous Ho...</td>\n",
       "    </tr>\n",
       "    <tr>\n",
       "      <th>1</th>\n",
       "      <td>b17540ef7e86e461d37f3ae58b7b72ac</td>\n",
       "      <td>FunkyBuys® Large Christmas Holiday Express Fes...</td>\n",
       "      <td>FunkyBuys</td>\n",
       "      <td>£16.99</td>\n",
       "      <td>NaN</td>\n",
       "      <td>2.0</td>\n",
       "      <td>1.0</td>\n",
       "      <td>4.5 out of 5 stars</td>\n",
       "      <td>Hobbies &gt; Model Trains &amp; Railway Sets &gt; Rail V...</td>\n",
       "      <td>Size Name:Large FunkyBuys® Large Christmas Hol...</td>\n",
       "      <td>Technical Details Manufacturer recommended age...</td>\n",
       "      <td>Size Name:Large FunkyBuys® Large Christmas Hol...</td>\n",
       "      <td>http://www.amazon.co.uk/Christmas-Holiday-Expr...</td>\n",
       "      <td>can you turn off sounds // hi no you cant turn...</td>\n",
       "    </tr>\n",
       "  </tbody>\n",
       "</table>\n",
       "</div>"
      ],
      "text/plain": [
       "                            uniq_id  \\\n",
       "0  eac7efa5dbd3d667f26eb3d3ab504464   \n",
       "1  b17540ef7e86e461d37f3ae58b7b72ac   \n",
       "\n",
       "                                        product_name manufacturer   price  \\\n",
       "0                              Hornby 2014 Catalogue       Hornby   £3.42   \n",
       "1  FunkyBuys® Large Christmas Holiday Express Fes...    FunkyBuys  £16.99   \n",
       "\n",
       "  number_available_in_stock number_of_reviews number_of_answered_questions  \\\n",
       "0                     5 new              15.0                          1.0   \n",
       "1                       NaN               2.0                          1.0   \n",
       "\n",
       "  average_review_rating                   amazon_category_and_sub_category  \\\n",
       "0    4.9 out of 5 stars  Hobbies > Model Trains & Railway Sets > Rail V...   \n",
       "1    4.5 out of 5 stars  Hobbies > Model Trains & Railway Sets > Rail V...   \n",
       "\n",
       "                                         description  \\\n",
       "0  Product Description Hornby 2014 Catalogue Box ...   \n",
       "1  Size Name:Large FunkyBuys® Large Christmas Hol...   \n",
       "\n",
       "                                 product_information  \\\n",
       "0  Technical Details Item Weight640 g Product Dim...   \n",
       "1  Technical Details Manufacturer recommended age...   \n",
       "\n",
       "                                 product_description  \\\n",
       "0  Product Description Hornby 2014 Catalogue Box ...   \n",
       "1  Size Name:Large FunkyBuys® Large Christmas Hol...   \n",
       "\n",
       "         items_customers_buy_after_viewing_this_item  \\\n",
       "0  http://www.amazon.co.uk/Hornby-R8150-Catalogue...   \n",
       "1  http://www.amazon.co.uk/Christmas-Holiday-Expr...   \n",
       "\n",
       "                      customer_questions_and_answers  \n",
       "0  Does this catalogue detail all the previous Ho...  \n",
       "1  can you turn off sounds // hi no you cant turn...  "
      ]
     },
     "execution_count": 10,
     "metadata": {},
     "output_type": "execute_result"
    }
   ],
   "source": [
    "df.head(2)"
   ]
  },
  {
   "cell_type": "code",
   "execution_count": 11,
   "id": "6c7b815c",
   "metadata": {},
   "outputs": [
    {
     "data": {
      "text/plain": [
       "uniq_id                                           2\n",
       "product_name                                      2\n",
       "manufacturer                                      9\n",
       "price                                          1437\n",
       "number_available_in_stock                      2502\n",
       "number_of_reviews                                20\n",
       "number_of_answered_questions                    767\n",
       "average_review_rating                            20\n",
       "amazon_category_and_sub_category                692\n",
       "description                                     653\n",
       "product_information                              61\n",
       "product_description                             654\n",
       "items_customers_buy_after_viewing_this_item    3068\n",
       "customer_questions_and_answers                 9089\n",
       "dtype: int64"
      ]
     },
     "execution_count": 11,
     "metadata": {},
     "output_type": "execute_result"
    }
   ],
   "source": [
    "df['price'].astype(str)\n",
    "df.isna().sum()"
   ]
  },
  {
   "cell_type": "markdown",
   "id": "5f7993c4",
   "metadata": {},
   "source": [
    "# Converting Price into Suitable Float data Type"
   ]
  },
  {
   "cell_type": "code",
   "execution_count": 12,
   "id": "337bb382",
   "metadata": {},
   "outputs": [
    {
     "data": {
      "text/plain": [
       "pandas.core.series.Series"
      ]
     },
     "execution_count": 12,
     "metadata": {},
     "output_type": "execute_result"
    }
   ],
   "source": [
    "df['price'].str.contains('£').sum()\n",
    "type (df['price'])"
   ]
  },
  {
   "cell_type": "code",
   "execution_count": 13,
   "id": "60afd630",
   "metadata": {},
   "outputs": [],
   "source": [
    "df.loc[2003,['price']]='0'\n",
    "df.loc[2005,['price']]='0'"
   ]
  },
  {
   "cell_type": "code",
   "execution_count": 14,
   "id": "686b0e7c",
   "metadata": {},
   "outputs": [],
   "source": [
    "df['price']=df['price'].str.replace(',','')"
   ]
  },
  {
   "cell_type": "code",
   "execution_count": 15,
   "id": "bc90b713",
   "metadata": {},
   "outputs": [
    {
     "data": {
      "text/plain": [
       "0"
      ]
     },
     "execution_count": 15,
     "metadata": {},
     "output_type": "execute_result"
    }
   ],
   "source": [
    "df['price'].str.contains(',').sum() "
   ]
  },
  {
   "cell_type": "code",
   "execution_count": 16,
   "id": "f579cf91",
   "metadata": {},
   "outputs": [],
   "source": [
    "flit=df['price'].str.contains('-')==True\n",
    "df['temp']=df.loc[flit,['price']]\n",
    "df[['lower','upper']]=df['temp'].str.split('-',expand=True)"
   ]
  },
  {
   "cell_type": "code",
   "execution_count": 17,
   "id": "50ec8a62",
   "metadata": {},
   "outputs": [
    {
     "data": {
      "text/html": [
       "<div>\n",
       "<style scoped>\n",
       "    .dataframe tbody tr th:only-of-type {\n",
       "        vertical-align: middle;\n",
       "    }\n",
       "\n",
       "    .dataframe tbody tr th {\n",
       "        vertical-align: top;\n",
       "    }\n",
       "\n",
       "    .dataframe thead th {\n",
       "        text-align: right;\n",
       "    }\n",
       "</style>\n",
       "<table border=\"1\" class=\"dataframe\">\n",
       "  <thead>\n",
       "    <tr style=\"text-align: right;\">\n",
       "      <th></th>\n",
       "      <th>uniq_id</th>\n",
       "      <th>product_name</th>\n",
       "      <th>manufacturer</th>\n",
       "      <th>price</th>\n",
       "      <th>number_available_in_stock</th>\n",
       "      <th>number_of_reviews</th>\n",
       "      <th>number_of_answered_questions</th>\n",
       "      <th>average_review_rating</th>\n",
       "      <th>amazon_category_and_sub_category</th>\n",
       "      <th>description</th>\n",
       "      <th>product_information</th>\n",
       "      <th>product_description</th>\n",
       "      <th>items_customers_buy_after_viewing_this_item</th>\n",
       "      <th>customer_questions_and_answers</th>\n",
       "      <th>temp</th>\n",
       "      <th>lower</th>\n",
       "      <th>upper</th>\n",
       "    </tr>\n",
       "  </thead>\n",
       "  <tbody>\n",
       "    <tr>\n",
       "      <th>0</th>\n",
       "      <td>eac7efa5dbd3d667f26eb3d3ab504464</td>\n",
       "      <td>Hornby 2014 Catalogue</td>\n",
       "      <td>Hornby</td>\n",
       "      <td>£3.42</td>\n",
       "      <td>5 new</td>\n",
       "      <td>15.0</td>\n",
       "      <td>1.0</td>\n",
       "      <td>4.9 out of 5 stars</td>\n",
       "      <td>Hobbies &gt; Model Trains &amp; Railway Sets &gt; Rail V...</td>\n",
       "      <td>Product Description Hornby 2014 Catalogue Box ...</td>\n",
       "      <td>Technical Details Item Weight640 g Product Dim...</td>\n",
       "      <td>Product Description Hornby 2014 Catalogue Box ...</td>\n",
       "      <td>http://www.amazon.co.uk/Hornby-R8150-Catalogue...</td>\n",
       "      <td>Does this catalogue detail all the previous Ho...</td>\n",
       "      <td>NaN</td>\n",
       "      <td>NaN</td>\n",
       "      <td>NaN</td>\n",
       "    </tr>\n",
       "    <tr>\n",
       "      <th>1</th>\n",
       "      <td>b17540ef7e86e461d37f3ae58b7b72ac</td>\n",
       "      <td>FunkyBuys® Large Christmas Holiday Express Fes...</td>\n",
       "      <td>FunkyBuys</td>\n",
       "      <td>£16.99</td>\n",
       "      <td>NaN</td>\n",
       "      <td>2.0</td>\n",
       "      <td>1.0</td>\n",
       "      <td>4.5 out of 5 stars</td>\n",
       "      <td>Hobbies &gt; Model Trains &amp; Railway Sets &gt; Rail V...</td>\n",
       "      <td>Size Name:Large FunkyBuys® Large Christmas Hol...</td>\n",
       "      <td>Technical Details Manufacturer recommended age...</td>\n",
       "      <td>Size Name:Large FunkyBuys® Large Christmas Hol...</td>\n",
       "      <td>http://www.amazon.co.uk/Christmas-Holiday-Expr...</td>\n",
       "      <td>can you turn off sounds // hi no you cant turn...</td>\n",
       "      <td>NaN</td>\n",
       "      <td>NaN</td>\n",
       "      <td>NaN</td>\n",
       "    </tr>\n",
       "  </tbody>\n",
       "</table>\n",
       "</div>"
      ],
      "text/plain": [
       "                            uniq_id  \\\n",
       "0  eac7efa5dbd3d667f26eb3d3ab504464   \n",
       "1  b17540ef7e86e461d37f3ae58b7b72ac   \n",
       "\n",
       "                                        product_name manufacturer   price  \\\n",
       "0                              Hornby 2014 Catalogue       Hornby   £3.42   \n",
       "1  FunkyBuys® Large Christmas Holiday Express Fes...    FunkyBuys  £16.99   \n",
       "\n",
       "  number_available_in_stock number_of_reviews number_of_answered_questions  \\\n",
       "0                     5 new              15.0                          1.0   \n",
       "1                       NaN               2.0                          1.0   \n",
       "\n",
       "  average_review_rating                   amazon_category_and_sub_category  \\\n",
       "0    4.9 out of 5 stars  Hobbies > Model Trains & Railway Sets > Rail V...   \n",
       "1    4.5 out of 5 stars  Hobbies > Model Trains & Railway Sets > Rail V...   \n",
       "\n",
       "                                         description  \\\n",
       "0  Product Description Hornby 2014 Catalogue Box ...   \n",
       "1  Size Name:Large FunkyBuys® Large Christmas Hol...   \n",
       "\n",
       "                                 product_information  \\\n",
       "0  Technical Details Item Weight640 g Product Dim...   \n",
       "1  Technical Details Manufacturer recommended age...   \n",
       "\n",
       "                                 product_description  \\\n",
       "0  Product Description Hornby 2014 Catalogue Box ...   \n",
       "1  Size Name:Large FunkyBuys® Large Christmas Hol...   \n",
       "\n",
       "         items_customers_buy_after_viewing_this_item  \\\n",
       "0  http://www.amazon.co.uk/Hornby-R8150-Catalogue...   \n",
       "1  http://www.amazon.co.uk/Christmas-Holiday-Expr...   \n",
       "\n",
       "                      customer_questions_and_answers temp lower upper  \n",
       "0  Does this catalogue detail all the previous Ho...  NaN   NaN   NaN  \n",
       "1  can you turn off sounds // hi no you cant turn...  NaN   NaN   NaN  "
      ]
     },
     "execution_count": 17,
     "metadata": {},
     "output_type": "execute_result"
    }
   ],
   "source": [
    "df.head(2)"
   ]
  },
  {
   "cell_type": "code",
   "execution_count": 18,
   "id": "6c7a32f7",
   "metadata": {},
   "outputs": [],
   "source": [
    "df['lower']=df['lower'].str.strip('£')\n",
    "df['upper']=df['upper'].str.strip('£')"
   ]
  },
  {
   "cell_type": "code",
   "execution_count": 19,
   "id": "481fffa6",
   "metadata": {},
   "outputs": [],
   "source": [
    "df['lower']=df['lower'].astype(float)"
   ]
  },
  {
   "cell_type": "code",
   "execution_count": 20,
   "id": "b3e0ebf3",
   "metadata": {},
   "outputs": [
    {
     "data": {
      "text/plain": [
       "lower    269.0\n",
       "Name: 1655, dtype: object"
      ]
     },
     "execution_count": 20,
     "metadata": {},
     "output_type": "execute_result"
    }
   ],
   "source": [
    "df.loc[1655,['lower']]"
   ]
  },
  {
   "cell_type": "code",
   "execution_count": 21,
   "id": "44b9536f",
   "metadata": {},
   "outputs": [
    {
     "data": {
      "text/plain": [
       "upper     £699.99\n",
       "Name: 1655, dtype: object"
      ]
     },
     "execution_count": 21,
     "metadata": {},
     "output_type": "execute_result"
    }
   ],
   "source": [
    "df.loc[1655,['upper']]"
   ]
  },
  {
   "cell_type": "code",
   "execution_count": 22,
   "id": "b40c099f",
   "metadata": {},
   "outputs": [
    {
     "data": {
      "text/plain": [
       "18"
      ]
     },
     "execution_count": 22,
     "metadata": {},
     "output_type": "execute_result"
    }
   ],
   "source": [
    "df['upper'].str.contains('£').sum()"
   ]
  },
  {
   "cell_type": "code",
   "execution_count": 23,
   "id": "4fea5a2f",
   "metadata": {},
   "outputs": [],
   "source": [
    "df['temp']=df['lower']\n",
    "flit=df['price'].str.contains('-')==True\n",
    "df.loc[flit,['price']]=df['temp']\n",
    "df['price']=df['price'].str.strip('£')"
   ]
  },
  {
   "cell_type": "code",
   "execution_count": 24,
   "id": "cf36254d",
   "metadata": {},
   "outputs": [
    {
     "data": {
      "text/plain": [
       "0     3.42\n",
       "1    16.99\n",
       "Name: price, dtype: object"
      ]
     },
     "execution_count": 24,
     "metadata": {},
     "output_type": "execute_result"
    }
   ],
   "source": [
    "df['price'][0:2]"
   ]
  },
  {
   "cell_type": "code",
   "execution_count": 25,
   "id": "65260f40",
   "metadata": {},
   "outputs": [
    {
     "data": {
      "text/plain": [
       "price    0\n",
       "Name: 2003, dtype: object"
      ]
     },
     "execution_count": 25,
     "metadata": {},
     "output_type": "execute_result"
    }
   ],
   "source": [
    "df.loc[2003,['price']]\n",
    "#just rechecking weather at string place it is converted to 0 or not"
   ]
  },
  {
   "cell_type": "code",
   "execution_count": 26,
   "id": "f582e13d",
   "metadata": {},
   "outputs": [
    {
     "data": {
      "text/plain": [
       "0         3.42\n",
       "1        16.99\n",
       "2         9.99\n",
       "3        39.99\n",
       "4        32.19\n",
       "         ...  \n",
       "9999     22.95\n",
       "10000    39.99\n",
       "10001    43.99\n",
       "10002    49.81\n",
       "10003    21.20\n",
       "Name: price, Length: 10004, dtype: float64"
      ]
     },
     "execution_count": 26,
     "metadata": {},
     "output_type": "execute_result"
    }
   ],
   "source": [
    "df['price']=df['price'].astype(float)\n",
    "df['price'].replace(0,np.nan)"
   ]
  },
  {
   "cell_type": "code",
   "execution_count": 27,
   "id": "90ab935b",
   "metadata": {},
   "outputs": [
    {
     "data": {
      "text/plain": [
       "10.56"
      ]
     },
     "execution_count": 27,
     "metadata": {},
     "output_type": "execute_result"
    }
   ],
   "source": [
    "df['price'].median()"
   ]
  },
  {
   "cell_type": "code",
   "execution_count": 28,
   "id": "7edec132",
   "metadata": {},
   "outputs": [
    {
     "data": {
      "text/plain": [
       "count    8549.000000\n",
       "mean       20.246669\n",
       "std        46.310067\n",
       "min         0.000000\n",
       "25%         4.980000\n",
       "50%        10.560000\n",
       "75%        19.990000\n",
       "max      2439.920000\n",
       "Name: price, dtype: float64"
      ]
     },
     "execution_count": 28,
     "metadata": {},
     "output_type": "execute_result"
    }
   ],
   "source": [
    "df['price'].describe()"
   ]
  },
  {
   "cell_type": "markdown",
   "id": "42de26f5",
   "metadata": {},
   "source": [
    "# Converting number_available in Suilable data type for calculations/Plotting Types of Product"
   ]
  },
  {
   "cell_type": "code",
   "execution_count": 29,
   "id": "724fcc35",
   "metadata": {},
   "outputs": [
    {
     "data": {
      "text/plain": [
       "array(['5\\xa0new', nan, '2\\xa0new', '3\\xa0new', '4\\xa0new', '1\\xa0new',\n",
       "       '6\\xa0new', '18\\xa0new', '12\\xa0new', '1\\xa0used', '26\\xa0new',\n",
       "       '37\\xa0new', '35\\xa0new', '22\\xa0new', '11\\xa0new', '16\\xa0new',\n",
       "       '31\\xa0new', '9\\xa0new', '29\\xa0new', '33\\xa0new', '7\\xa0new',\n",
       "       '15\\xa0new', '13\\xa0new', '19\\xa0new', '27\\xa0new', '10\\xa0new',\n",
       "       '39\\xa0new', '23\\xa0new', '38\\xa0new', '8\\xa0new', '17\\xa0new',\n",
       "       '34\\xa0new', '30\\xa0new', '21\\xa0new', '14\\xa0new', '32\\xa0new',\n",
       "       '3\\xa0used', '20\\xa0new', '43\\xa0new', '25\\xa0new', '24\\xa0new',\n",
       "       '8\\xa0used', '7\\xa0used', '41\\xa0new', '47\\xa0new', '73\\xa0new',\n",
       "       '58\\xa0new', '49\\xa0new', '36\\xa0new', '72\\xa0new',\n",
       "       '1\\xa0collectible', '40\\xa0new', '1\\xa0refurbished', '28\\xa0new',\n",
       "       '2\\xa0used', '6\\xa0used', 'text\"\":\"\"Appstore for Android\"\"',\n",
       "       '69\\xa0new', '44\\xa0new', '55\\xa0new', '56\\xa0new', '52\\xa0new',\n",
       "       '71\\xa0new', '86\\xa0new', '60\\xa0new', '92\\xa0new', '65\\xa0new',\n",
       "       '74\\xa0new', '50\\xa0new', '63\\xa0new', '78\\xa0new', '4\\xa0used',\n",
       "       '51\\xa0new', '53\\xa0new', '64\\xa0new', '48\\xa0new', '57\\xa0new',\n",
       "       '42\\xa0new', '46\\xa0new', '14\\xa0used', '5\\xa0used',\n",
       "       '2\\xa0collectible', '54\\xa0new', '59\\xa0new', '66\\xa0new',\n",
       "       '45\\xa0new', '62\\xa0new', '70\\xa0new', '10\\xa0used', '12\\xa0used',\n",
       "       '9\\xa0used'], dtype=object)"
      ]
     },
     "execution_count": 29,
     "metadata": {},
     "output_type": "execute_result"
    }
   ],
   "source": [
    "df['number_available_in_stock'].unique()"
   ]
  },
  {
   "cell_type": "code",
   "execution_count": 30,
   "id": "42699b97",
   "metadata": {},
   "outputs": [],
   "source": [
    "a=df['number_available_in_stock'].str.contains('new').sum()\n",
    "b=df['number_available_in_stock'].str.contains('used').sum()\n",
    "c=df['number_available_in_stock'].str.contains('furbish').sum()\n",
    "d=df['number_available_in_stock'].str.contains('collectibl').sum()\n",
    "e=df['number_available_in_stock'].str.contains('xt\"\":\"\"Appstore for Android\"\" ').sum()\n"
   ]
  },
  {
   "cell_type": "code",
   "execution_count": 31,
   "id": "d1e06b26",
   "metadata": {},
   "outputs": [],
   "source": [
    "from  matplotlib import pyplot as plt\n",
    "%matplotlib inline\n"
   ]
  },
  {
   "cell_type": "code",
   "execution_count": 32,
   "id": "e4f0cd88",
   "metadata": {},
   "outputs": [
    {
     "data": {
      "text/plain": [
       "<matplotlib.legend.Legend at 0x234805a6dd0>"
      ]
     },
     "execution_count": 32,
     "metadata": {},
     "output_type": "execute_result"
    },
    {
     "data": {
      "image/png": "[encoded data removed]",
      "text/plain": [
       "<Figure size 640x480 with 1 Axes>"
      ]
     },
     "metadata": {},
     "output_type": "display_data"
    }
   ],
   "source": [
    "plt.pie([a,b,c,d],autopct='%1.1f%%',labels=['New','Used','furbish','Collectibl'],wedgeprops={'edgecolor':'black'})\n",
    "plt.style.use('fivethirtyeight')\n",
    "plt.legend(loc='upper right')"
   ]
  },
  {
   "cell_type": "markdown",
   "id": "633986e3",
   "metadata": {},
   "source": [
    "# Availablity of furbish and collectibl is less than 1 percent"
   ]
  },
  {
   "cell_type": "code",
   "execution_count": 33,
   "id": "8043ca76",
   "metadata": {},
   "outputs": [],
   "source": [
    "df['number_availble_in_stock']=df['number_available_in_stock'].fillna('0')\n",
    "df['number_available_in_stock']=df['number_available_in_stock'].str.strip('\\xa0new')\n",
    "df['number_available_in_stock']=df['number_available_in_stock'].str.strip('\\xa0used')\n",
    "df['number_available_in_stock']=df['number_available_in_stock'].str.strip('\\xa0collectibl')\n",
    "df['number_available_in_stock']=df['number_available_in_stock'].str.strip('\\xa0refurbish')\n",
    "df['number_available_in_stock']=df['number_available_in_stock'].str.replace('xt\"\":\"\"Appstore for Android\"\"','1')"
   ]
  },
  {
   "cell_type": "code",
   "execution_count": 34,
   "id": "aeba95e7",
   "metadata": {},
   "outputs": [],
   "source": [
    "df['number_available_in_stock']=df['number_available_in_stock'].astype(float)"
   ]
  },
  {
   "cell_type": "markdown",
   "id": "fd822dbc",
   "metadata": {},
   "source": [
    "# Manufacture vs No.of sold Items"
   ]
  },
  {
   "cell_type": "code",
   "execution_count": 35,
   "id": "b1f155cb",
   "metadata": {},
   "outputs": [],
   "source": [
    "manufacture=df.groupby(['manufacturer'])"
   ]
  },
  {
   "cell_type": "code",
   "execution_count": 36,
   "id": "5b9e5370",
   "metadata": {},
   "outputs": [
    {
     "data": {
      "text/plain": [
       "150"
      ]
     },
     "execution_count": 36,
     "metadata": {},
     "output_type": "execute_result"
    }
   ],
   "source": [
    "\n",
    "#number of products of Disney\n",
    "manufacture['number_available_in_stock'].value_counts().loc['Disney'].sum()"
   ]
  },
  {
   "cell_type": "code",
   "execution_count": 37,
   "id": "d3fff2a7",
   "metadata": {},
   "outputs": [],
   "source": [
    "List=df['manufacturer'].unique()"
   ]
  },
  {
   "cell_type": "code",
   "execution_count": 38,
   "id": "04c8890c",
   "metadata": {},
   "outputs": [],
   "source": [
    "df['number_available_in_stock']\n",
    "df['numer_available_in_stock']=df['number_available_in_stock'].fillna(0,inplace=True)\n",
    "  \n",
    "   "
   ]
  },
  {
   "cell_type": "code",
   "execution_count": 39,
   "id": "42f2ce4f",
   "metadata": {},
   "outputs": [],
   "source": [
    "df['number_availble_in_stock']=df['number_available_in_stock'].astype(float)"
   ]
  },
  {
   "cell_type": "code",
   "execution_count": 40,
   "id": "70c11a0f",
   "metadata": {},
   "outputs": [
    {
     "data": {
      "text/plain": [
       "9"
      ]
     },
     "execution_count": 40,
     "metadata": {},
     "output_type": "execute_result"
    }
   ],
   "source": [
    "df['manufacturer']  \n",
    "df['manufacturer'].isna().sum()    \n",
    "    "
   ]
  },
  {
   "cell_type": "code",
   "execution_count": 41,
   "id": "304c61c5",
   "metadata": {},
   "outputs": [],
   "source": [
    "df['manufacturer'].fillna('Unknown',inplace=True)\n",
    "manufacture=df.groupby(['manufacturer'])"
   ]
  },
  {
   "cell_type": "code",
   "execution_count": 42,
   "id": "54ef32b2",
   "metadata": {},
   "outputs": [
    {
     "data": {
      "text/plain": [
       "'Hornby'"
      ]
     },
     "execution_count": 42,
     "metadata": {},
     "output_type": "execute_result"
    }
   ],
   "source": [
    "List=df['manufacturer'].unique()\n",
    "Name=[]\n",
    "for i in List:\n",
    "    Name.append(i)\n",
    "Name[0]    \n",
    "    \n",
    "    "
   ]
  },
  {
   "cell_type": "code",
   "execution_count": 43,
   "id": "24f43224",
   "metadata": {},
   "outputs": [],
   "source": [
    "Number_Items=[]\n",
    "for i in List:\n",
    "    name=manufacture['number_available_in_stock'].value_counts().loc[i].sum()\n",
    "    Number_Items.append(name)"
   ]
  },
  {
   "cell_type": "code",
   "execution_count": 44,
   "id": "b3b6314d",
   "metadata": {},
   "outputs": [
    {
     "name": "stdout",
     "output_type": "stream",
     "text": [
      "167\n"
     ]
    },
    {
     "data": {
      "text/plain": [
       "87"
      ]
     },
     "execution_count": 44,
     "metadata": {},
     "output_type": "execute_result"
    }
   ],
   "source": [
    "print(manufacture['number_available_in_stock'].value_counts().loc['Disney'].sum())\n",
    "Number_Items[0]"
   ]
  },
  {
   "cell_type": "code",
   "execution_count": 45,
   "id": "be25f79b",
   "metadata": {},
   "outputs": [
    {
     "data": {
      "text/html": [
       "<div>\n",
       "<style scoped>\n",
       "    .dataframe tbody tr th:only-of-type {\n",
       "        vertical-align: middle;\n",
       "    }\n",
       "\n",
       "    .dataframe tbody tr th {\n",
       "        vertical-align: top;\n",
       "    }\n",
       "\n",
       "    .dataframe thead th {\n",
       "        text-align: right;\n",
       "    }\n",
       "</style>\n",
       "<table border=\"1\" class=\"dataframe\">\n",
       "  <thead>\n",
       "    <tr style=\"text-align: right;\">\n",
       "      <th></th>\n",
       "      <th>Manufacturer</th>\n",
       "      <th>Sold_Items</th>\n",
       "    </tr>\n",
       "  </thead>\n",
       "  <tbody>\n",
       "    <tr>\n",
       "      <th>0</th>\n",
       "      <td>Hornby</td>\n",
       "      <td>87</td>\n",
       "    </tr>\n",
       "    <tr>\n",
       "      <th>1</th>\n",
       "      <td>FunkyBuys</td>\n",
       "      <td>2</td>\n",
       "    </tr>\n",
       "    <tr>\n",
       "      <th>2</th>\n",
       "      <td>ccf</td>\n",
       "      <td>1</td>\n",
       "    </tr>\n",
       "    <tr>\n",
       "      <th>3</th>\n",
       "      <td>Generic</td>\n",
       "      <td>43</td>\n",
       "    </tr>\n",
       "    <tr>\n",
       "      <th>4</th>\n",
       "      <td>Chuggington</td>\n",
       "      <td>14</td>\n",
       "    </tr>\n",
       "  </tbody>\n",
       "</table>\n",
       "</div>"
      ],
      "text/plain": [
       "  Manufacturer  Sold_Items\n",
       "0       Hornby          87\n",
       "1    FunkyBuys           2\n",
       "2          ccf           1\n",
       "3      Generic          43\n",
       "4  Chuggington          14"
      ]
     },
     "execution_count": 45,
     "metadata": {},
     "output_type": "execute_result"
    }
   ],
   "source": [
    "Sold_Items=pd.DataFrame({'Manufacturer':List,'Sold_Items':Number_Items})\n",
    "Sold_Items.head(5)"
   ]
  },
  {
   "cell_type": "code",
   "execution_count": 46,
   "id": "82cb60c5",
   "metadata": {},
   "outputs": [
    {
     "name": "stdout",
     "output_type": "stream",
     "text": [
      "87\n"
     ]
    }
   ],
   "source": [
    "print(manufacture['number_available_in_stock'].value_counts().loc['Hornby'].sum())\n",
    "#number of stocks of hornby sold"
   ]
  },
  {
   "cell_type": "code",
   "execution_count": 47,
   "id": "920f266e",
   "metadata": {},
   "outputs": [
    {
     "data": {
      "text/html": [
       "<div>\n",
       "<style scoped>\n",
       "    .dataframe tbody tr th:only-of-type {\n",
       "        vertical-align: middle;\n",
       "    }\n",
       "\n",
       "    .dataframe tbody tr th {\n",
       "        vertical-align: top;\n",
       "    }\n",
       "\n",
       "    .dataframe thead th {\n",
       "        text-align: right;\n",
       "    }\n",
       "</style>\n",
       "<table border=\"1\" class=\"dataframe\">\n",
       "  <thead>\n",
       "    <tr style=\"text-align: right;\">\n",
       "      <th></th>\n",
       "      <th>Sold_Items</th>\n",
       "    </tr>\n",
       "  </thead>\n",
       "  <tbody>\n",
       "    <tr>\n",
       "      <th>count</th>\n",
       "      <td>2652.000000</td>\n",
       "    </tr>\n",
       "    <tr>\n",
       "      <th>mean</th>\n",
       "      <td>3.772247</td>\n",
       "    </tr>\n",
       "    <tr>\n",
       "      <th>std</th>\n",
       "      <td>10.316976</td>\n",
       "    </tr>\n",
       "    <tr>\n",
       "      <th>min</th>\n",
       "      <td>1.000000</td>\n",
       "    </tr>\n",
       "    <tr>\n",
       "      <th>25%</th>\n",
       "      <td>1.000000</td>\n",
       "    </tr>\n",
       "    <tr>\n",
       "      <th>50%</th>\n",
       "      <td>1.000000</td>\n",
       "    </tr>\n",
       "    <tr>\n",
       "      <th>75%</th>\n",
       "      <td>3.000000</td>\n",
       "    </tr>\n",
       "    <tr>\n",
       "      <th>max</th>\n",
       "      <td>171.000000</td>\n",
       "    </tr>\n",
       "  </tbody>\n",
       "</table>\n",
       "</div>"
      ],
      "text/plain": [
       "        Sold_Items\n",
       "count  2652.000000\n",
       "mean      3.772247\n",
       "std      10.316976\n",
       "min       1.000000\n",
       "25%       1.000000\n",
       "50%       1.000000\n",
       "75%       3.000000\n",
       "max     171.000000"
      ]
     },
     "execution_count": 47,
     "metadata": {},
     "output_type": "execute_result"
    }
   ],
   "source": [
    "Sold_Items.describe()"
   ]
  },
  {
   "cell_type": "code",
   "execution_count": 48,
   "id": "4dea813c",
   "metadata": {},
   "outputs": [
    {
     "name": "stderr",
     "output_type": "stream",
     "text": [
      "No artists with labels found to put in legend.  Note that artists whose label start with an underscore are ignored when legend() is called with no argument.\n"
     ]
    },
    {
     "data": {
      "text/plain": [
       "<matplotlib.legend.Legend at 0x23480538b90>"
      ]
     },
     "execution_count": 48,
     "metadata": {},
     "output_type": "execute_result"
    },
    {
     "data": {
      "image/png": "[encoded data removed]",
      "text/plain": [
       "<Figure size 640x480 with 1 Axes>"
      ]
     },
     "metadata": {},
     "output_type": "display_data"
    }
   ],
   "source": [
    "plt.barh(Sold_Items['Manufacturer'][:10],Sold_Items['Sold_Items'][:10],linewidth=1,color='orange')\n",
    "plt.title('Avaiblity of Items by Manufacturer')\n",
    "plt.xlabel('Available_Items_in_stock')\n",
    "plt.ylabel('Manufacturer')\n",
    "plt.tight_layout()\n",
    "plt.legend()\n",
    "# item sold by top 10 companies in dataframe"
   ]
  },
  {
   "cell_type": "code",
   "execution_count": 49,
   "id": "fb8bf548",
   "metadata": {},
   "outputs": [
    {
     "data": {
      "text/plain": [
       "<Figure size 600x2000 with 0 Axes>"
      ]
     },
     "execution_count": 49,
     "metadata": {},
     "output_type": "execute_result"
    },
    {
     "data": {
      "image/png": "[encoded data removed]",
      "text/plain": [
       "<Figure size 640x480 with 1 Axes>"
      ]
     },
     "metadata": {},
     "output_type": "display_data"
    },
    {
     "data": {
      "text/plain": [
       "<Figure size 600x2000 with 0 Axes>"
      ]
     },
     "metadata": {},
     "output_type": "display_data"
    }
   ],
   "source": [
    "x=Sold_Items.head(20)\n",
    "sns.scatterplot(y='Manufacturer',x='Sold_Items',data=x)\n",
    "plt.figure(figsize=(6,20))\n",
    "#Distribution of number of poducts with 20 manufacturer "
   ]
  },
  {
   "cell_type": "markdown",
   "id": "ee5a5add",
   "metadata": {},
   "source": [
    "# Manufacture vs Average Ratings"
   ]
  },
  {
   "cell_type": "code",
   "execution_count": 50,
   "id": "f7783f23",
   "metadata": {},
   "outputs": [
    {
     "data": {
      "text/plain": [
       "array(['4.9 ', '4.5 ', '3.9 ', '5.0 ', '4.7 ', '4.3 ', '4.8 ', '4.0 ',\n",
       "       '4.2 ', '4.6 ', '4.1 ', nan, '4.4 ', '3.5 ', '3.0 ',\n",
       "       '{\"\"text\"\":\"\"Amazon Cloud Drive\"\"', '3.3 ', '3.7 ', '3.8 ', '3.6 ',\n",
       "       '2.3 '], dtype=object)"
      ]
     },
     "execution_count": 50,
     "metadata": {},
     "output_type": "execute_result"
    }
   ],
   "source": [
    "df[['Rating','Waste']]=df['average_review_rating'].str.split('out',expand=True)\n",
    "df.drop(columns=['Waste'],inplace=True)\n",
    "df['Rating'].unique()"
   ]
  },
  {
   "cell_type": "code",
   "execution_count": 51,
   "id": "6918bacb",
   "metadata": {},
   "outputs": [],
   "source": [
    "df['Rating']=df['Rating'].replace( '{\"\"text\"\":\"\"Amazon Cloud Drive\"\"','0')\n",
    "df['Rating']=df['Rating'].fillna('0')"
   ]
  },
  {
   "cell_type": "code",
   "execution_count": 52,
   "id": "59f13bfb",
   "metadata": {},
   "outputs": [],
   "source": [
    "df['Rating']=df['Rating'].astype(float)"
   ]
  },
  {
   "cell_type": "code",
   "execution_count": 53,
   "id": "96058da0",
   "metadata": {},
   "outputs": [
    {
     "data": {
      "text/plain": [
       "{5.0: 44,\n",
       " 4.0: 10,\n",
       " 4.8: 6,\n",
       " 4.2: 5,\n",
       " 4.3: 5,\n",
       " 4.4: 5,\n",
       " 4.6: 5,\n",
       " 4.5: 2,\n",
       " 4.7: 2,\n",
       " 4.9: 2,\n",
       " 4.1: 1}"
      ]
     },
     "execution_count": 53,
     "metadata": {},
     "output_type": "execute_result"
    }
   ],
   "source": [
    "a=dict(manufacture['Rating'].value_counts().loc['Hornby'])\n",
    "a\n"
   ]
  },
  {
   "cell_type": "code",
   "execution_count": 54,
   "id": "561a401b",
   "metadata": {},
   "outputs": [
    {
     "name": "stdout",
     "output_type": "stream",
     "text": [
      "4.696551724137931\n"
     ]
    }
   ],
   "source": [
    "sum=0\n",
    "deno=0\n",
    "for i,n in a.items():\n",
    "    sum=sum+float(i)*int(n)\n",
    "    deno=deno+n\n",
    "print(sum/deno)    \n",
    "#average rating of disney product    \n",
    "   "
   ]
  },
  {
   "cell_type": "code",
   "execution_count": 55,
   "id": "f6dca921",
   "metadata": {},
   "outputs": [],
   "source": [
    "Avg_Rating_List=[]\n",
    "for i in List:\n",
    "    a=dict(manufacture['Rating'].value_counts().loc[i])\n",
    "    #print(a)       \n",
    "    sum=0\n",
    "    deno=0\n",
    "    for j,n in a.items():\n",
    "        sum=sum+(float(j)*int(n))\n",
    "        deno=deno+n\n",
    "    #print(sum)\n",
    "    #print(deno)\n",
    "    temp=sum/deno\n",
    "    Avg_Rating_List.append(temp)    \n",
    "    "
   ]
  },
  {
   "cell_type": "code",
   "execution_count": 56,
   "id": "483dd1a1",
   "metadata": {},
   "outputs": [
    {
     "data": {
      "text/plain": [
       "4.696551724137931"
      ]
     },
     "execution_count": 56,
     "metadata": {},
     "output_type": "execute_result"
    }
   ],
   "source": [
    "Avg_Rating_List[0]"
   ]
  },
  {
   "cell_type": "code",
   "execution_count": 57,
   "id": "77ce55bd",
   "metadata": {},
   "outputs": [],
   "source": [
    "Rating_Manufacturer=pd.DataFrame({'Manufacture':List,'Average Ratings of Manufacuturer':Avg_Rating_List})"
   ]
  },
  {
   "cell_type": "code",
   "execution_count": 58,
   "id": "6400e745",
   "metadata": {},
   "outputs": [
    {
     "data": {
      "text/html": [
       "<div>\n",
       "<style scoped>\n",
       "    .dataframe tbody tr th:only-of-type {\n",
       "        vertical-align: middle;\n",
       "    }\n",
       "\n",
       "    .dataframe tbody tr th {\n",
       "        vertical-align: top;\n",
       "    }\n",
       "\n",
       "    .dataframe thead th {\n",
       "        text-align: right;\n",
       "    }\n",
       "</style>\n",
       "<table border=\"1\" class=\"dataframe\">\n",
       "  <thead>\n",
       "    <tr style=\"text-align: right;\">\n",
       "      <th></th>\n",
       "      <th>Manufacture</th>\n",
       "      <th>Average Ratings of Manufacuturer</th>\n",
       "    </tr>\n",
       "  </thead>\n",
       "  <tbody>\n",
       "    <tr>\n",
       "      <th>0</th>\n",
       "      <td>Hornby</td>\n",
       "      <td>4.696552</td>\n",
       "    </tr>\n",
       "    <tr>\n",
       "      <th>1</th>\n",
       "      <td>FunkyBuys</td>\n",
       "      <td>4.300000</td>\n",
       "    </tr>\n",
       "    <tr>\n",
       "      <th>2</th>\n",
       "      <td>ccf</td>\n",
       "      <td>3.900000</td>\n",
       "    </tr>\n",
       "    <tr>\n",
       "      <th>3</th>\n",
       "      <td>Generic</td>\n",
       "      <td>4.681395</td>\n",
       "    </tr>\n",
       "    <tr>\n",
       "      <th>4</th>\n",
       "      <td>Chuggington</td>\n",
       "      <td>4.628571</td>\n",
       "    </tr>\n",
       "  </tbody>\n",
       "</table>\n",
       "</div>"
      ],
      "text/plain": [
       "   Manufacture  Average Ratings of Manufacuturer\n",
       "0       Hornby                          4.696552\n",
       "1    FunkyBuys                          4.300000\n",
       "2          ccf                          3.900000\n",
       "3      Generic                          4.681395\n",
       "4  Chuggington                          4.628571"
      ]
     },
     "execution_count": 58,
     "metadata": {},
     "output_type": "execute_result"
    }
   ],
   "source": [
    "Rating_Manufacturer.head(5)"
   ]
  },
  {
   "cell_type": "code",
   "execution_count": 59,
   "id": "3b67a836",
   "metadata": {},
   "outputs": [
    {
     "data": {
      "image/png": "[encoded data removed]",
      "text/plain": [
       "<Figure size 640x480 with 1 Axes>"
      ]
     },
     "metadata": {},
     "output_type": "display_data"
    }
   ],
   "source": [
    "plt.barh(Rating_Manufacturer['Manufacture'][:10],Rating_Manufacturer['Average Ratings of Manufacuturer'][:10],linewidth=1,color='green')\n",
    "plt.title(' Ratings of Manufacturer')\n",
    "plt.xlabel('Ratings')\n",
    "plt.ylabel('Mnaufacturer')\n",
    "plt.tight_layout()\n",
    "# Ratings by top 10 companies in dataframe"
   ]
  },
  {
   "cell_type": "code",
   "execution_count": 60,
   "id": "468eb0a2",
   "metadata": {},
   "outputs": [
    {
     "data": {
      "text/plain": [
       "<Axes: >"
      ]
     },
     "execution_count": 60,
     "metadata": {},
     "output_type": "execute_result"
    },
    {
     "data": {
      "image/png": "[encoded data removed]",
      "text/plain": [
       "<Figure size 640x480 with 1 Axes>"
      ]
     },
     "metadata": {},
     "output_type": "display_data"
    }
   ],
   "source": [
    "x=Rating_Manufacturer\n",
    "sns.violinplot(x['Average Ratings of Manufacuturer'])\n",
    "#Distribution of average Ratings"
   ]
  },
  {
   "cell_type": "code",
   "execution_count": 61,
   "id": "9ede48d4",
   "metadata": {},
   "outputs": [
    {
     "data": {
      "text/plain": [
       "count    2652.000000\n",
       "mean        4.682717\n",
       "std         0.416415\n",
       "min         0.000000\n",
       "25%         4.500000\n",
       "50%         4.800000\n",
       "75%         5.000000\n",
       "max         5.000000\n",
       "Name: Average Ratings of Manufacuturer, dtype: float64"
      ]
     },
     "execution_count": 61,
     "metadata": {},
     "output_type": "execute_result"
    }
   ],
   "source": [
    "Rating_Manufacturer['Average Ratings of Manufacuturer'].describe()"
   ]
  },
  {
   "cell_type": "markdown",
   "id": "2f92c082",
   "metadata": {},
   "source": [
    "# Manufacture vs Range of price of Items sold by Manufacturer"
   ]
  },
  {
   "cell_type": "code",
   "execution_count": 62,
   "id": "d41e172e",
   "metadata": {},
   "outputs": [],
   "source": [
    "Max=[]\n",
    "Min=[]\n",
    "for i in List:\n",
    "    a=manufacture['price'].max().loc[i]\n",
    "    b=manufacture['price'].min().loc[i]\n",
    "    Max.append(a)\n",
    "    Min.append(b)"
   ]
  },
  {
   "cell_type": "code",
   "execution_count": 63,
   "id": "8bb8ef32",
   "metadata": {},
   "outputs": [
    {
     "data": {
      "text/html": [
       "<div>\n",
       "<style scoped>\n",
       "    .dataframe tbody tr th:only-of-type {\n",
       "        vertical-align: middle;\n",
       "    }\n",
       "\n",
       "    .dataframe tbody tr th {\n",
       "        vertical-align: top;\n",
       "    }\n",
       "\n",
       "    .dataframe thead th {\n",
       "        text-align: right;\n",
       "    }\n",
       "</style>\n",
       "<table border=\"1\" class=\"dataframe\">\n",
       "  <thead>\n",
       "    <tr style=\"text-align: right;\">\n",
       "      <th></th>\n",
       "      <th>Manufacture</th>\n",
       "      <th>Max</th>\n",
       "      <th>Min</th>\n",
       "    </tr>\n",
       "  </thead>\n",
       "  <tbody>\n",
       "    <tr>\n",
       "      <th>0</th>\n",
       "      <td>Hornby</td>\n",
       "      <td>235.58</td>\n",
       "      <td>2.35</td>\n",
       "    </tr>\n",
       "    <tr>\n",
       "      <th>1</th>\n",
       "      <td>FunkyBuys</td>\n",
       "      <td>16.99</td>\n",
       "      <td>5.99</td>\n",
       "    </tr>\n",
       "    <tr>\n",
       "      <th>2</th>\n",
       "      <td>ccf</td>\n",
       "      <td>9.99</td>\n",
       "      <td>9.99</td>\n",
       "    </tr>\n",
       "    <tr>\n",
       "      <th>3</th>\n",
       "      <td>Generic</td>\n",
       "      <td>33.90</td>\n",
       "      <td>0.86</td>\n",
       "    </tr>\n",
       "    <tr>\n",
       "      <th>4</th>\n",
       "      <td>Chuggington</td>\n",
       "      <td>11.95</td>\n",
       "      <td>4.75</td>\n",
       "    </tr>\n",
       "  </tbody>\n",
       "</table>\n",
       "</div>"
      ],
      "text/plain": [
       "   Manufacture     Max   Min\n",
       "0       Hornby  235.58  2.35\n",
       "1    FunkyBuys   16.99  5.99\n",
       "2          ccf    9.99  9.99\n",
       "3      Generic   33.90  0.86\n",
       "4  Chuggington   11.95  4.75"
      ]
     },
     "execution_count": 63,
     "metadata": {},
     "output_type": "execute_result"
    }
   ],
   "source": [
    "Range_Manufacturer=pd.DataFrame({'Manufacture':List,'Max':Max,'Min':Min})\n",
    "Range_Manufacturer.head(5)"
   ]
  },
  {
   "cell_type": "code",
   "execution_count": 64,
   "id": "66a715d1",
   "metadata": {},
   "outputs": [
    {
     "data": {
      "image/png": "[encoded data removed]",
      "text/plain": [
       "<Figure size 640x480 with 1 Axes>"
      ]
     },
     "metadata": {},
     "output_type": "display_data"
    }
   ],
   "source": [
    "width=0.25\n",
    "Range_Manufacturer['Min'].astype(float)\n",
    "Range_Manufacturer['Max'].astype(float)\n",
    "x_indexes=np.arange(len(Range_Manufacturer['Manufacture'][:10]))\n",
    "plt.barh(x_indexes+width,Range_Manufacturer['Min'][:10],label='Min_Price')\n",
    "plt.barh(x_indexes-width,Range_Manufacturer['Max'][:10],label='Max_Price')\n",
    "plt.title('Minimum and Maximum Price')\n",
    "plt.xlabel('Price')\n",
    "plt.ylabel('Manufacturer')\n",
    "plt.legend()\n",
    "plt.tight_layout()\n",
    "# Ratings by top 10 companies in dataframe\n",
    "#0,10 in y axis represnt the company number in data frame"
   ]
  },
  {
   "cell_type": "code",
   "execution_count": 65,
   "id": "53f68c4c",
   "metadata": {},
   "outputs": [
    {
     "name": "stderr",
     "output_type": "stream",
     "text": [
      "C:\\Users\\HP\\AppData\\Roaming\\Python\\Python311\\site-packages\\seaborn\\axisgrid.py:118: UserWarning: The figure layout has changed to tight\n",
      "  self._figure.tight_layout(*args, **kwargs)\n"
     ]
    },
    {
     "data": {
      "image/png": "[encoded data removed]",
      "text/plain": [
       "<Figure size 500x250 with 2 Axes>"
      ]
     },
     "metadata": {},
     "output_type": "display_data"
    }
   ],
   "source": [
    "x=Range_Manufacturer.head(10)\n",
    "sns.pairplot(x,y_vars='Manufacture')\n",
    "plt.show()"
   ]
  },
  {
   "cell_type": "code",
   "execution_count": 66,
   "id": "5c1c4093",
   "metadata": {},
   "outputs": [
    {
     "data": {
      "text/plain": [
       "(0.0, 400.0)"
      ]
     },
     "execution_count": 66,
     "metadata": {},
     "output_type": "execute_result"
    },
    {
     "data": {
      "image/png": "[encoded data removed]",
      "text/plain": [
       "<Figure size 640x480 with 1 Axes>"
      ]
     },
     "metadata": {},
     "output_type": "display_data"
    }
   ],
   "source": [
    "#Distribution of max and min\n",
    "x=Range_Manufacturer\n",
    "sns.violinplot(x['Max'])\n",
    "plt.ylim(0,400)"
   ]
  },
  {
   "cell_type": "code",
   "execution_count": 67,
   "id": "bc2b4e1c",
   "metadata": {},
   "outputs": [
    {
     "data": {
      "text/plain": [
       "(0.0, 200.0)"
      ]
     },
     "execution_count": 67,
     "metadata": {},
     "output_type": "execute_result"
    },
    {
     "data": {
      "image/png": "[encoded data removed]",
      "text/plain": [
       "<Figure size 640x480 with 1 Axes>"
      ]
     },
     "metadata": {},
     "output_type": "display_data"
    }
   ],
   "source": [
    "x=Range_Manufacturer\n",
    "sns.violinplot(x['Min'])\n",
    "plt.ylim(0,200)"
   ]
  },
  {
   "cell_type": "code",
   "execution_count": 68,
   "id": "8a9bebc0",
   "metadata": {},
   "outputs": [
    {
     "data": {
      "text/plain": [
       "count    2364.000000\n",
       "mean       16.855360\n",
       "std        57.470707\n",
       "min         0.000000\n",
       "25%         3.780000\n",
       "50%         8.490000\n",
       "75%        16.882500\n",
       "max      2439.920000\n",
       "Name: Min, dtype: float64"
      ]
     },
     "execution_count": 68,
     "metadata": {},
     "output_type": "execute_result"
    }
   ],
   "source": [
    "Range_Manufacturer['Max'].describe()\n",
    "Range_Manufacturer['Min'].describe()"
   ]
  },
  {
   "cell_type": "markdown",
   "id": "3df0b215",
   "metadata": {},
   "source": [
    "# Manufacturer vs Top 5 expensive product name  "
   ]
  },
  {
   "cell_type": "code",
   "execution_count": 69,
   "id": "27f087d7",
   "metadata": {},
   "outputs": [],
   "source": [
    "List_1=manufacture['price'].value_counts().loc['Power Trains']"
   ]
  },
  {
   "cell_type": "code",
   "execution_count": 70,
   "id": "367d8044",
   "metadata": {},
   "outputs": [],
   "source": [
    "df['price']=df['price'].fillna('0')\n",
    "df.loc[8,['price']]\n",
    "df['price']=df['price'].astype(float)"
   ]
  },
  {
   "cell_type": "code",
   "execution_count": 71,
   "id": "173d647b",
   "metadata": {},
   "outputs": [
    {
     "data": {
      "text/plain": [
       "[235.58,\n",
       " 169.99,\n",
       " 166.04,\n",
       " 141.23,\n",
       " 139.99,\n",
       " 139.95,\n",
       " 129.95,\n",
       " 127.99,\n",
       " 126.2,\n",
       " 121.05,\n",
       " 119.99,\n",
       " 119.5,\n",
       " 116.1,\n",
       " 114.98,\n",
       " 108.99,\n",
       " 107.99,\n",
       " 105.0,\n",
       " 98.5,\n",
       " 94.46,\n",
       " 89.99,\n",
       " 82.31,\n",
       " 79.95,\n",
       " 74.99,\n",
       " 69.99,\n",
       " 69.93,\n",
       " 65.76,\n",
       " 63.99,\n",
       " 60.25,\n",
       " 58.92,\n",
       " 58.64,\n",
       " 51.53,\n",
       " 49.99,\n",
       " 43.51,\n",
       " 41.67,\n",
       " 39.99,\n",
       " 39.95,\n",
       " 39.1,\n",
       " 36.95,\n",
       " 32.19,\n",
       " 30.99,\n",
       " 29.99,\n",
       " 28.99,\n",
       " 27.99,\n",
       " 27.49,\n",
       " 24.99,\n",
       " 21.95,\n",
       " 19.99,\n",
       " 19.95,\n",
       " 18.99,\n",
       " 18.69,\n",
       " 18.12,\n",
       " 13.46,\n",
       " 5.7,\n",
       " 3.42,\n",
       " 3.19,\n",
       " 3.03,\n",
       " 2.35,\n",
       " 0.0]"
      ]
     },
     "execution_count": 71,
     "metadata": {},
     "output_type": "execute_result"
    }
   ],
   "source": [
    "Prices=[]\n",
    "for i in List:\n",
    "    List_3=[]\n",
    "    List_2=manufacture['price'].value_counts().loc[i]\n",
    "    for j,n in List_2.items():\n",
    "        List_3.append(float(j))\n",
    "    List_3.sort(reverse=True)    \n",
    "    Prices.append(List_3)  \n",
    "Prices[0]    "
   ]
  },
  {
   "cell_type": "code",
   "execution_count": 72,
   "id": "6b565c27",
   "metadata": {},
   "outputs": [
    {
     "data": {
      "text/plain": [
       "[235.58, 169.99, 166.04, 141.23, 139.99]"
      ]
     },
     "execution_count": 72,
     "metadata": {},
     "output_type": "execute_result"
    }
   ],
   "source": [
    "Final_Price=[]\n",
    "for i in Prices :\n",
    "    Temp=[]\n",
    "    if len(i)>5:\n",
    "        for j in range(0,5):\n",
    "            Temp.append(i[j])\n",
    "    else:\n",
    "        for j in range(0,len(i)):\n",
    "            Temp.append(i[j])\n",
    "    Final_Price.append(Temp)\n",
    "    Temp=[]\n",
    "Final_Price[0]\n",
    "        "
   ]
  },
  {
   "cell_type": "code",
   "execution_count": 73,
   "id": "cb16157b",
   "metadata": {},
   "outputs": [],
   "source": [
    "df.set_index(keys=['price'],inplace=True)"
   ]
  },
  {
   "cell_type": "code",
   "execution_count": 74,
   "id": "883e4081",
   "metadata": {},
   "outputs": [
    {
     "data": {
      "text/plain": [
       "price\n",
       "169.99    Hornby Gauge Flying Scotsman NRM 2015 Rededica...\n",
       "169.99    LEGO Indiana Jones 7628 Peril In Peru Limited ...\n",
       "169.99    Playmobil 4865 Knights Lion Knights Empire Castle\n",
       "169.99    TMNT Monster Tower Playset ~ Teenage Mutant Ni...\n",
       "Name: product_name, dtype: object"
      ]
     },
     "execution_count": 74,
     "metadata": {},
     "output_type": "execute_result"
    }
   ],
   "source": [
    "product_name=df.loc[Final_Price[0][1],'product_name']\n",
    "product_name"
   ]
  },
  {
   "cell_type": "code",
   "execution_count": 75,
   "id": "3e731a7c",
   "metadata": {},
   "outputs": [],
   "source": [
    "df['product_name']=df['product_name'].fillna('Unknown')"
   ]
  },
  {
   "cell_type": "code",
   "execution_count": 76,
   "id": "7fc2b20e",
   "metadata": {},
   "outputs": [],
   "source": [
    "\n",
    "Costly_Products=[]\n",
    "for i in Final_Price :\n",
    "    Temp=[]\n",
    "    if len(i)>5:\n",
    "        for j in range(0,5):\n",
    "            product_name=df.loc[i[j],'product_name']\n",
    "            Temp.append(product_name)\n",
    "            \n",
    "    else:\n",
    "        for j in range(0,len(i)):\n",
    "            product_name=df.loc[i[j],'product_name']\n",
    "            Temp.append(product_name)        \n",
    "    Costly_Products.append(Temp)\n",
    "    Temp=[]\n",
    "   "
   ]
  },
  {
   "cell_type": "code",
   "execution_count": 77,
   "id": "add42e07",
   "metadata": {},
   "outputs": [
    {
     "data": {
      "text/html": [
       "<div>\n",
       "<style scoped>\n",
       "    .dataframe tbody tr th:only-of-type {\n",
       "        vertical-align: middle;\n",
       "    }\n",
       "\n",
       "    .dataframe tbody tr th {\n",
       "        vertical-align: top;\n",
       "    }\n",
       "\n",
       "    .dataframe thead th {\n",
       "        text-align: right;\n",
       "    }\n",
       "</style>\n",
       "<table border=\"1\" class=\"dataframe\">\n",
       "  <thead>\n",
       "    <tr style=\"text-align: right;\">\n",
       "      <th></th>\n",
       "      <th>Manufacturer</th>\n",
       "      <th>Product_Names_of mostly</th>\n",
       "    </tr>\n",
       "  </thead>\n",
       "  <tbody>\n",
       "    <tr>\n",
       "      <th>0</th>\n",
       "      <td>Hornby</td>\n",
       "      <td>[Hornby Gauge Western Express Digital Train Se...</td>\n",
       "    </tr>\n",
       "    <tr>\n",
       "      <th>1</th>\n",
       "      <td>FunkyBuys</td>\n",
       "      <td>[[FunkyBuys® Large Christmas Holiday Express F...</td>\n",
       "    </tr>\n",
       "    <tr>\n",
       "      <th>2</th>\n",
       "      <td>ccf</td>\n",
       "      <td>[[CLASSIC TOY TRAIN SET TRACK CARRIAGES LIGHT ...</td>\n",
       "    </tr>\n",
       "    <tr>\n",
       "      <th>3</th>\n",
       "      <td>Generic</td>\n",
       "      <td>[Rainbow 7M Huge Octopus Paul Parafoil Kite, [...</td>\n",
       "    </tr>\n",
       "    <tr>\n",
       "      <th>4</th>\n",
       "      <td>Chuggington</td>\n",
       "      <td>[[Dapol Model Railway BR Mogul Class Locomotiv...</td>\n",
       "    </tr>\n",
       "    <tr>\n",
       "      <th>...</th>\n",
       "      <td>...</td>\n",
       "      <td>...</td>\n",
       "    </tr>\n",
       "    <tr>\n",
       "      <th>2647</th>\n",
       "      <td>Feldherr</td>\n",
       "      <td>[[Mini Beasts Sand Art Pictures (Pack of 20) (...</td>\n",
       "    </tr>\n",
       "    <tr>\n",
       "      <th>2648</th>\n",
       "      <td>GGS</td>\n",
       "      <td>[Marauder's map wallscroll - Harry Potter]</td>\n",
       "    </tr>\n",
       "    <tr>\n",
       "      <th>2649</th>\n",
       "      <td>Captain america</td>\n",
       "      <td>[Captain America - The First Avenger - Movie S...</td>\n",
       "    </tr>\n",
       "    <tr>\n",
       "      <th>2650</th>\n",
       "      <td>IronMan</td>\n",
       "      <td>[Iron Maiden 8-Inch Eddie 2 Mintutes To Midnig...</td>\n",
       "    </tr>\n",
       "    <tr>\n",
       "      <th>2651</th>\n",
       "      <td>Super Heroes</td>\n",
       "      <td>[[CLASSIC TOY TRAIN SET TRACK CARRIAGES LIGHT ...</td>\n",
       "    </tr>\n",
       "  </tbody>\n",
       "</table>\n",
       "<p>2652 rows × 2 columns</p>\n",
       "</div>"
      ],
      "text/plain": [
       "         Manufacturer                            Product_Names_of mostly\n",
       "0              Hornby  [Hornby Gauge Western Express Digital Train Se...\n",
       "1           FunkyBuys  [[FunkyBuys® Large Christmas Holiday Express F...\n",
       "2                 ccf  [[CLASSIC TOY TRAIN SET TRACK CARRIAGES LIGHT ...\n",
       "3             Generic  [Rainbow 7M Huge Octopus Paul Parafoil Kite, [...\n",
       "4         Chuggington  [[Dapol Model Railway BR Mogul Class Locomotiv...\n",
       "...               ...                                                ...\n",
       "2647         Feldherr  [[Mini Beasts Sand Art Pictures (Pack of 20) (...\n",
       "2648              GGS         [Marauder's map wallscroll - Harry Potter]\n",
       "2649  Captain america  [Captain America - The First Avenger - Movie S...\n",
       "2650          IronMan  [Iron Maiden 8-Inch Eddie 2 Mintutes To Midnig...\n",
       "2651     Super Heroes  [[CLASSIC TOY TRAIN SET TRACK CARRIAGES LIGHT ...\n",
       "\n",
       "[2652 rows x 2 columns]"
      ]
     },
     "execution_count": 77,
     "metadata": {},
     "output_type": "execute_result"
    }
   ],
   "source": [
    "Product_Name_Costly=pd.DataFrame({'Manufacturer':List,'Product_Names_of mostly':Costly_Products})\n",
    "Product_Name_Costly"
   ]
  },
  {
   "cell_type": "code",
   "execution_count": 78,
   "id": "5d4be15f",
   "metadata": {},
   "outputs": [],
   "source": [
    "df.reset_index(inplace=True)"
   ]
  },
  {
   "cell_type": "markdown",
   "id": "9b20d8f6",
   "metadata": {},
   "source": [
    "# Manufacturer vs Cost of Total stock in Euros"
   ]
  },
  {
   "cell_type": "code",
   "execution_count": 79,
   "id": "8ea6eb25",
   "metadata": {},
   "outputs": [],
   "source": [
    "Dict=dict(manufacture['price'].value_counts().loc['Disney'])\n",
    "\n",
    "    "
   ]
  },
  {
   "cell_type": "code",
   "execution_count": 80,
   "id": "4c1c3e0b",
   "metadata": {},
   "outputs": [
    {
     "data": {
      "text/plain": [
       "4634.099999999997"
      ]
     },
     "execution_count": 80,
     "metadata": {},
     "output_type": "execute_result"
    }
   ],
   "source": [
    "Total_Income=[]\n",
    "for i in List:\n",
    "    Dict=dict(manufacture['price'].value_counts().loc[i])\n",
    "    sum=0\n",
    "    for key,index in Dict.items():\n",
    "        sum=sum+float(key)*float(index)\n",
    "    Total_Income.append(sum) \n",
    "Total_Income[0]    "
   ]
  },
  {
   "cell_type": "code",
   "execution_count": 81,
   "id": "49ba1da6",
   "metadata": {},
   "outputs": [
    {
     "data": {
      "text/html": [
       "<div>\n",
       "<style scoped>\n",
       "    .dataframe tbody tr th:only-of-type {\n",
       "        vertical-align: middle;\n",
       "    }\n",
       "\n",
       "    .dataframe tbody tr th {\n",
       "        vertical-align: top;\n",
       "    }\n",
       "\n",
       "    .dataframe thead th {\n",
       "        text-align: right;\n",
       "    }\n",
       "</style>\n",
       "<table border=\"1\" class=\"dataframe\">\n",
       "  <thead>\n",
       "    <tr style=\"text-align: right;\">\n",
       "      <th></th>\n",
       "      <th>Manufacturer</th>\n",
       "      <th>Total_Money_Earned in £</th>\n",
       "    </tr>\n",
       "  </thead>\n",
       "  <tbody>\n",
       "    <tr>\n",
       "      <th>0</th>\n",
       "      <td>Hornby</td>\n",
       "      <td>4634.10</td>\n",
       "    </tr>\n",
       "    <tr>\n",
       "      <th>1</th>\n",
       "      <td>FunkyBuys</td>\n",
       "      <td>22.98</td>\n",
       "    </tr>\n",
       "  </tbody>\n",
       "</table>\n",
       "</div>"
      ],
      "text/plain": [
       "  Manufacturer  Total_Money_Earned in £\n",
       "0       Hornby                  4634.10\n",
       "1    FunkyBuys                    22.98"
      ]
     },
     "execution_count": 81,
     "metadata": {},
     "output_type": "execute_result"
    }
   ],
   "source": [
    "Total_Income_Manufacturer=pd.DataFrame({'Manufacturer':List,'Total_Money_Earned in £':Total_Income})\n",
    "Total_Income_Manufacturer.head(2)"
   ]
  },
  {
   "cell_type": "code",
   "execution_count": 82,
   "id": "fc4e37e8",
   "metadata": {},
   "outputs": [
    {
     "data": {
      "image/png": "[encoded data removed]",
      "text/plain": [
       "<Figure size 640x480 with 1 Axes>"
      ]
     },
     "metadata": {},
     "output_type": "display_data"
    }
   ],
   "source": [
    "plt.barh(Total_Income_Manufacturer['Manufacturer'][:10],Total_Income_Manufacturer['Total_Money_Earned in £'][:10],linewidth=1,log=True,color='#00ff00')\n",
    "plt.title('Money Earned by Manufacturer')\n",
    "plt.xlabel('Total cost of all stock in Euros')\n",
    "plt.ylabel('Manufacturer')\n",
    "plt.tight_layout()"
   ]
  },
  {
   "cell_type": "code",
   "execution_count": 83,
   "id": "ed32eaf6",
   "metadata": {},
   "outputs": [
    {
     "data": {
      "text/plain": [
       "(0.0, 1000.0)"
      ]
     },
     "execution_count": 83,
     "metadata": {},
     "output_type": "execute_result"
    },
    {
     "data": {
      "image/png": "[encoded data removed]",
      "text/plain": [
       "<Figure size 640x480 with 1 Axes>"
      ]
     },
     "metadata": {},
     "output_type": "display_data"
    }
   ],
   "source": [
    "x=Total_Income_Manufacturer\n",
    "sns.violinplot(x['Total_Money_Earned in £'])\n",
    "plt.ylim(0,1000)"
   ]
  },
  {
   "cell_type": "markdown",
   "id": "b113b0d0",
   "metadata": {},
   "source": [
    "# Price vs Availablity of stocks"
   ]
  },
  {
   "cell_type": "code",
   "execution_count": 84,
   "id": "90ea5fce",
   "metadata": {},
   "outputs": [],
   "source": [
    "List_Price=df['price']\n",
    "Price=df.groupby(['price'])\n",
    "Temp=[]\n",
    "for i in List_Price:\n",
    "    Temp.append(Price['number_available_in_stock'].value_counts().loc[i].sum())"
   ]
  },
  {
   "cell_type": "code",
   "execution_count": 85,
   "id": "dd666a2d",
   "metadata": {},
   "outputs": [
    {
     "data": {
      "text/html": [
       "<div>\n",
       "<style scoped>\n",
       "    .dataframe tbody tr th:only-of-type {\n",
       "        vertical-align: middle;\n",
       "    }\n",
       "\n",
       "    .dataframe tbody tr th {\n",
       "        vertical-align: top;\n",
       "    }\n",
       "\n",
       "    .dataframe thead th {\n",
       "        text-align: right;\n",
       "    }\n",
       "</style>\n",
       "<table border=\"1\" class=\"dataframe\">\n",
       "  <thead>\n",
       "    <tr style=\"text-align: right;\">\n",
       "      <th></th>\n",
       "      <th>Price</th>\n",
       "      <th>Available Stocks</th>\n",
       "    </tr>\n",
       "  </thead>\n",
       "  <tbody>\n",
       "    <tr>\n",
       "      <th>0</th>\n",
       "      <td>3.42</td>\n",
       "      <td>2</td>\n",
       "    </tr>\n",
       "    <tr>\n",
       "      <th>1</th>\n",
       "      <td>16.99</td>\n",
       "      <td>52</td>\n",
       "    </tr>\n",
       "    <tr>\n",
       "      <th>2</th>\n",
       "      <td>9.99</td>\n",
       "      <td>189</td>\n",
       "    </tr>\n",
       "    <tr>\n",
       "      <th>3</th>\n",
       "      <td>39.99</td>\n",
       "      <td>39</td>\n",
       "    </tr>\n",
       "    <tr>\n",
       "      <th>4</th>\n",
       "      <td>32.19</td>\n",
       "      <td>2</td>\n",
       "    </tr>\n",
       "    <tr>\n",
       "      <th>...</th>\n",
       "      <td>...</td>\n",
       "      <td>...</td>\n",
       "    </tr>\n",
       "    <tr>\n",
       "      <th>9999</th>\n",
       "      <td>22.95</td>\n",
       "      <td>9</td>\n",
       "    </tr>\n",
       "    <tr>\n",
       "      <th>10000</th>\n",
       "      <td>39.99</td>\n",
       "      <td>39</td>\n",
       "    </tr>\n",
       "    <tr>\n",
       "      <th>10001</th>\n",
       "      <td>43.99</td>\n",
       "      <td>7</td>\n",
       "    </tr>\n",
       "    <tr>\n",
       "      <th>10002</th>\n",
       "      <td>49.81</td>\n",
       "      <td>1</td>\n",
       "    </tr>\n",
       "    <tr>\n",
       "      <th>10003</th>\n",
       "      <td>21.20</td>\n",
       "      <td>1</td>\n",
       "    </tr>\n",
       "  </tbody>\n",
       "</table>\n",
       "<p>10004 rows × 2 columns</p>\n",
       "</div>"
      ],
      "text/plain": [
       "       Price  Available Stocks\n",
       "0       3.42                 2\n",
       "1      16.99                52\n",
       "2       9.99               189\n",
       "3      39.99                39\n",
       "4      32.19                 2\n",
       "...      ...               ...\n",
       "9999   22.95                 9\n",
       "10000  39.99                39\n",
       "10001  43.99                 7\n",
       "10002  49.81                 1\n",
       "10003  21.20                 1\n",
       "\n",
       "[10004 rows x 2 columns]"
      ]
     },
     "execution_count": 85,
     "metadata": {},
     "output_type": "execute_result"
    }
   ],
   "source": [
    "fd=pd.DataFrame({'Price':List_Price,'Available Stocks':Temp})\n",
    "fd"
   ]
  },
  {
   "cell_type": "code",
   "execution_count": 86,
   "id": "13ee0526",
   "metadata": {},
   "outputs": [
    {
     "data": {
      "text/plain": [
       "Text(0.5, 1.0, 'Availablity of product')"
      ]
     },
     "execution_count": 86,
     "metadata": {},
     "output_type": "execute_result"
    },
    {
     "data": {
      "image/png": "[encoded data removed]",
      "text/plain": [
       "<Figure size 640x480 with 1 Axes>"
      ]
     },
     "metadata": {},
     "output_type": "display_data"
    }
   ],
   "source": [
    "plt.scatter(fd['Price'],fd['Available Stocks'],alpha=1,color='green')\n",
    "#plt.style.use('threefivetyeight')\n",
    "plt.xlabel('Price')\n",
    "plt.xlim(0,1000)\n",
    "plt.ylim(0,400)\n",
    "plt.ylabel('Available Stocks')\n",
    "plt.title('Availablity of product')"
   ]
  },
  {
   "cell_type": "markdown",
   "id": "9888acce",
   "metadata": {},
   "source": [
    "# Rating vs no.of product"
   ]
  },
  {
   "cell_type": "code",
   "execution_count": 87,
   "id": "31acad8a",
   "metadata": {},
   "outputs": [],
   "source": [
    "List_Rate=list(df['Rating'].unique())\n",
    "List_Rate.sort()\n",
    "Rate=df.groupby(['Rating'])\n",
    "Temp=[]\n",
    "for i in List_Rate:\n",
    "     Temp.append(Rate['number_available_in_stock'].value_counts().loc[i].sum())\n",
    "dff=pd.DataFrame({'Rating':List_Rate,'No of stocks':Temp})\n",
    "\n",
    "        \n",
    "    "
   ]
  },
  {
   "cell_type": "code",
   "execution_count": 88,
   "id": "be249faf",
   "metadata": {},
   "outputs": [
    {
     "data": {
      "text/plain": [
       "Text(0.5, 1.0, 'Rating of Product')"
      ]
     },
     "execution_count": 88,
     "metadata": {},
     "output_type": "execute_result"
    },
    {
     "data": {
      "image/png": "[encoded data removed]",
      "text/plain": [
       "<Figure size 1000x600 with 1 Axes>"
      ]
     },
     "metadata": {},
     "output_type": "display_data"
    }
   ],
   "source": [
    "plt.figure(figsize=(10,6))\n",
    "plt.scatter(dff['Rating'],dff['No of stocks'],alpha=1,color='red')\n",
    "#plt.style.use('threefivetyeight')\n",
    "plt.xlabel('Rating')\n",
    "plt.ylabel('No.Stock')\n",
    "plt.title('Rating of Product')\n"
   ]
  },
  {
   "cell_type": "markdown",
   "id": "ef1e6814",
   "metadata": {},
   "source": [
    "# Making Simple Regression model of above DataFrame"
   ]
  },
  {
   "cell_type": "code",
   "execution_count": 89,
   "id": "d0adbe22",
   "metadata": {},
   "outputs": [],
   "source": [
    "dff['Rating']=dff['Rating'].astype(float)\n",
    "x=dff.iloc[:,:-1].values\n",
    "y=dff.iloc[:,-1].values"
   ]
  },
  {
   "cell_type": "code",
   "execution_count": 90,
   "id": "a0f16cc4",
   "metadata": {},
   "outputs": [],
   "source": [
    "from sklearn.model_selection import train_test_split\n",
    "X_trains,X_test,Y_trains,Y_test=train_test_split(x,y,test_size=0.2,random_state=0)"
   ]
  },
  {
   "cell_type": "code",
   "execution_count": 91,
   "id": "9d9fac6a",
   "metadata": {},
   "outputs": [
    {
     "data": {
      "text/html": [
       "<style>#sk-container-id-1 {color: black;}#sk-container-id-1 pre{padding: 0;}#sk-container-id-1 div.sk-toggleable {background-color: white;}#sk-container-id-1 label.sk-toggleable__label {cursor: pointer;display: block;width: 100%;margin-bottom: 0;padding: 0.3em;box-sizing: border-box;text-align: center;}#sk-container-id-1 label.sk-toggleable__label-arrow:before {content: \"▸\";float: left;margin-right: 0.25em;color: #696969;}#sk-container-id-1 label.sk-toggleable__label-arrow:hover:before {color: black;}#sk-container-id-1 div.sk-estimator:hover label.sk-toggleable__label-arrow:before {color: black;}#sk-container-id-1 div.sk-toggleable__content {max-height: 0;max-width: 0;overflow: hidden;text-align: left;background-color: #f0f8ff;}#sk-container-id-1 div.sk-toggleable__content pre {margin: 0.2em;color: black;border-radius: 0.25em;background-color: #f0f8ff;}#sk-container-id-1 input.sk-toggleable__control:checked~div.sk-toggleable__content {max-height: 200px;max-width: 100%;overflow: auto;}#sk-container-id-1 input.sk-toggleable__control:checked~label.sk-toggleable__label-arrow:before {content: \"▾\";}#sk-container-id-1 div.sk-estimator input.sk-toggleable__control:checked~label.sk-toggleable__label {background-color: #d4ebff;}#sk-container-id-1 div.sk-label input.sk-toggleable__control:checked~label.sk-toggleable__label {background-color: #d4ebff;}#sk-container-id-1 input.sk-hidden--visually {border: 0;clip: rect(1px 1px 1px 1px);clip: rect(1px, 1px, 1px, 1px);height: 1px;margin: -1px;overflow: hidden;padding: 0;position: absolute;width: 1px;}#sk-container-id-1 div.sk-estimator {font-family: monospace;background-color: #f0f8ff;border: 1px dotted black;border-radius: 0.25em;box-sizing: border-box;margin-bottom: 0.5em;}#sk-container-id-1 div.sk-estimator:hover {background-color: #d4ebff;}#sk-container-id-1 div.sk-parallel-item::after {content: \"\";width: 100%;border-bottom: 1px solid gray;flex-grow: 1;}#sk-container-id-1 div.sk-label:hover label.sk-toggleable__label {background-color: #d4ebff;}#sk-container-id-1 div.sk-serial::before {content: \"\";position: absolute;border-left: 1px solid gray;box-sizing: border-box;top: 0;bottom: 0;left: 50%;z-index: 0;}#sk-container-id-1 div.sk-serial {display: flex;flex-direction: column;align-items: center;background-color: white;padding-right: 0.2em;padding-left: 0.2em;position: relative;}#sk-container-id-1 div.sk-item {position: relative;z-index: 1;}#sk-container-id-1 div.sk-parallel {display: flex;align-items: stretch;justify-content: center;background-color: white;position: relative;}#sk-container-id-1 div.sk-item::before, #sk-container-id-1 div.sk-parallel-item::before {content: \"\";position: absolute;border-left: 1px solid gray;box-sizing: border-box;top: 0;bottom: 0;left: 50%;z-index: -1;}#sk-container-id-1 div.sk-parallel-item {display: flex;flex-direction: column;z-index: 1;position: relative;background-color: white;}#sk-container-id-1 div.sk-parallel-item:first-child::after {align-self: flex-end;width: 50%;}#sk-container-id-1 div.sk-parallel-item:last-child::after {align-self: flex-start;width: 50%;}#sk-container-id-1 div.sk-parallel-item:only-child::after {width: 0;}#sk-container-id-1 div.sk-dashed-wrapped {border: 1px dashed gray;margin: 0 0.4em 0.5em 0.4em;box-sizing: border-box;padding-bottom: 0.4em;background-color: white;}#sk-container-id-1 div.sk-label label {font-family: monospace;font-weight: bold;display: inline-block;line-height: 1.2em;}#sk-container-id-1 div.sk-label-container {text-align: center;}#sk-container-id-1 div.sk-container {/* jupyter's `normalize.less` sets `[hidden] { display: none; }` but bootstrap.min.css set `[hidden] { display: none !important; }` so we also need the `!important` here to be able to override the default hidden behavior on the sphinx rendered scikit-learn.org. See: https://github.com/scikit-learn/scikit-learn/issues/21755 */display: inline-block !important;position: relative;}#sk-container-id-1 div.sk-text-repr-fallback {display: none;}</style><div id=\"sk-container-id-1\" class=\"sk-top-container\"><div class=\"sk-text-repr-fallback\"><pre>LinearRegression()</pre><b>In a Jupyter environment, please rerun this cell to show the HTML representation or trust the notebook. <br />On GitHub, the HTML representation is unable to render, please try loading this page with nbviewer.org.</b></div><div class=\"sk-container\" hidden><div class=\"sk-item\"><div class=\"sk-estimator sk-toggleable\"><input class=\"sk-toggleable__control sk-hidden--visually\" id=\"sk-estimator-id-1\" type=\"checkbox\" checked><label for=\"sk-estimator-id-1\" class=\"sk-toggleable__label sk-toggleable__label-arrow\">LinearRegression</label><div class=\"sk-toggleable__content\"><pre>LinearRegression()</pre></div></div></div></div></div>"
      ],
      "text/plain": [
       "LinearRegression()"
      ]
     },
     "execution_count": 91,
     "metadata": {},
     "output_type": "execute_result"
    }
   ],
   "source": [
    "from sklearn.linear_model import LinearRegression\n",
    "regressor=LinearRegression()\n",
    "regressor.fit(X_trains,Y_trains)"
   ]
  },
  {
   "cell_type": "code",
   "execution_count": 92,
   "id": "bdc19d85",
   "metadata": {},
   "outputs": [],
   "source": [
    "y_pred=regressor.predict(X_test)"
   ]
  },
  {
   "cell_type": "code",
   "execution_count": 93,
   "id": "3bda22bb",
   "metadata": {},
   "outputs": [
    {
     "data": {
      "text/plain": [
       "Text(0.5, 1.0, 'Rating of Product')"
      ]
     },
     "execution_count": 93,
     "metadata": {},
     "output_type": "execute_result"
    },
    {
     "data": {
      "image/png": "[encoded data removed]",
      "text/plain": [
       "<Figure size 1000x600 with 1 Axes>"
      ]
     },
     "metadata": {},
     "output_type": "display_data"
    }
   ],
   "source": [
    "plt.figure(figsize=(10,6))\n",
    "plt.scatter(X_trains,Y_trains,color='red')\n",
    "plt.plot(X_trains,regressor.predict(X_trains))    \n",
    "#plt.style.use('threefivetyeight')\n",
    "plt.xlabel('Rating')\n",
    "plt.ylabel('No.Stock')\n",
    "plt.title('Rating of Product')\n"
   ]
  },
  {
   "cell_type": "code",
   "execution_count": 94,
   "id": "c4641d7a",
   "metadata": {},
   "outputs": [
    {
     "data": {
      "text/html": [
       "<div>\n",
       "<style scoped>\n",
       "    .dataframe tbody tr th:only-of-type {\n",
       "        vertical-align: middle;\n",
       "    }\n",
       "\n",
       "    .dataframe tbody tr th {\n",
       "        vertical-align: top;\n",
       "    }\n",
       "\n",
       "    .dataframe thead th {\n",
       "        text-align: right;\n",
       "    }\n",
       "</style>\n",
       "<table border=\"1\" class=\"dataframe\">\n",
       "  <thead>\n",
       "    <tr style=\"text-align: right;\">\n",
       "      <th></th>\n",
       "      <th>price</th>\n",
       "      <th>number_available_in_stock</th>\n",
       "      <th>manufacturer</th>\n",
       "      <th>Rating</th>\n",
       "    </tr>\n",
       "  </thead>\n",
       "  <tbody>\n",
       "    <tr>\n",
       "      <th>0</th>\n",
       "      <td>3.42</td>\n",
       "      <td>5.0</td>\n",
       "      <td>Hornby</td>\n",
       "      <td>4.9</td>\n",
       "    </tr>\n",
       "    <tr>\n",
       "      <th>1</th>\n",
       "      <td>16.99</td>\n",
       "      <td>0.0</td>\n",
       "      <td>FunkyBuys</td>\n",
       "      <td>4.5</td>\n",
       "    </tr>\n",
       "    <tr>\n",
       "      <th>2</th>\n",
       "      <td>9.99</td>\n",
       "      <td>2.0</td>\n",
       "      <td>ccf</td>\n",
       "      <td>3.9</td>\n",
       "    </tr>\n",
       "    <tr>\n",
       "      <th>3</th>\n",
       "      <td>39.99</td>\n",
       "      <td>0.0</td>\n",
       "      <td>Hornby</td>\n",
       "      <td>5.0</td>\n",
       "    </tr>\n",
       "    <tr>\n",
       "      <th>4</th>\n",
       "      <td>32.19</td>\n",
       "      <td>0.0</td>\n",
       "      <td>Hornby</td>\n",
       "      <td>4.7</td>\n",
       "    </tr>\n",
       "  </tbody>\n",
       "</table>\n",
       "</div>"
      ],
      "text/plain": [
       "   price  number_available_in_stock manufacturer  Rating\n",
       "0   3.42                        5.0       Hornby     4.9\n",
       "1  16.99                        0.0    FunkyBuys     4.5\n",
       "2   9.99                        2.0          ccf     3.9\n",
       "3  39.99                        0.0       Hornby     5.0\n",
       "4  32.19                        0.0       Hornby     4.7"
      ]
     },
     "execution_count": 94,
     "metadata": {},
     "output_type": "execute_result"
    }
   ],
   "source": [
    "fd=pd.DataFrame({'price':df['price'],'number_available_in_stock':df['number_available_in_stock'],'manufacturer':df['manufacturer'],'Rating':df['Rating']})\n",
    "fd.head(5)"
   ]
  },
  {
   "cell_type": "markdown",
   "id": "f385f0a0",
   "metadata": {},
   "source": [
    "# Multiple Regression for Rating as dependent and rest Independent"
   ]
  },
  {
   "cell_type": "code",
   "execution_count": 95,
   "id": "d88cfc88",
   "metadata": {},
   "outputs": [],
   "source": [
    "fd['price']=fd['price'].astype(float)\n",
    "fd['number_available_in_stock']=fd['number_available_in_stock'].astype(float)\n",
    "fd['Rating']=df['Rating'].astype(float)\n"
   ]
  },
  {
   "cell_type": "code",
   "execution_count": 96,
   "id": "1a80b766",
   "metadata": {},
   "outputs": [
    {
     "data": {
      "text/plain": [
       "(10004, 3)"
      ]
     },
     "execution_count": 96,
     "metadata": {},
     "output_type": "execute_result"
    }
   ],
   "source": [
    "x=fd.iloc[:,:-1].values\n",
    "y=fd.iloc[:,-1].values\n",
    "x.shape"
   ]
  },
  {
   "cell_type": "code",
   "execution_count": 97,
   "id": "1bf9fadb",
   "metadata": {},
   "outputs": [],
   "source": [
    "#changing catogerial column\n",
    "from sklearn.compose import ColumnTransformer\n",
    "from sklearn.preprocessing import OneHotEncoder\n",
    "ct=ColumnTransformer(transformers=[('encoder',OneHotEncoder(),[2])],remainder='passthrough')\n",
    "x=np.array(ct.fit_transform(x))\n",
    "                     "
   ]
  },
  {
   "cell_type": "code",
   "execution_count": 98,
   "id": "c5bfc469",
   "metadata": {},
   "outputs": [
    {
     "data": {
      "text/plain": [
       "array(<10004x2654 sparse matrix of type '<class 'numpy.float64'>'\n",
       "\twith 26053 stored elements in Compressed Sparse Row format>, dtype=object)"
      ]
     },
     "execution_count": 98,
     "metadata": {},
     "output_type": "execute_result"
    }
   ],
   "source": [
    "x"
   ]
  },
  {
   "cell_type": "code",
   "execution_count": 99,
   "id": "d73e862b",
   "metadata": {},
   "outputs": [],
   "source": [
    "#need to to convert sparse array into normal matrix\n",
    "#if not done singleton array erroe occurs ...\n",
    "from scipy.sparse import csr_matrix\n",
    "sparse_matrix=csr_matrix(x.all())\n",
    "x=sparse_matrix.toarray()"
   ]
  },
  {
   "cell_type": "code",
   "execution_count": 100,
   "id": "c3cb2f2a",
   "metadata": {},
   "outputs": [],
   "source": [
    "from sklearn.model_selection import train_test_split\n",
    "x_train,x_test,y_train,y_test=train_test_split(x,y,test_size=0.4,random_state=0)\n"
   ]
  },
  {
   "cell_type": "code",
   "execution_count": 101,
   "id": "2fbf77ab",
   "metadata": {},
   "outputs": [],
   "source": [
    "from sklearn.linear_model import LinearRegression\n",
    "regressor=LinearRegression()\n",
    "regressor.fit(x_train,y_train)\n",
    "y_pred=regressor.predict(x_test)\n"
   ]
  },
  {
   "cell_type": "code",
   "execution_count": 102,
   "id": "30b8b14a",
   "metadata": {},
   "outputs": [
    {
     "data": {
      "text/plain": [
       "array([ 4.61790791e+00, -1.73881174e+08,  4.71892136e+00, ...,\n",
       "        4.95067677e+00,  4.64082041e+00,  4.59556967e+00])"
      ]
     },
     "execution_count": 102,
     "metadata": {},
     "output_type": "execute_result"
    }
   ],
   "source": [
    "y_pred"
   ]
  },
  {
   "cell_type": "code",
   "execution_count": 103,
   "id": "8f1440f2",
   "metadata": {},
   "outputs": [
    {
     "name": "stdout",
     "output_type": "stream",
     "text": [
      "[[ 4.62e+00  4.50e+00]\n",
      " [-1.74e+08  5.00e+00]\n",
      " [ 4.72e+00  5.00e+00]\n",
      " ...\n",
      " [ 4.95e+00  5.00e+00]\n",
      " [ 4.64e+00  5.00e+00]\n",
      " [ 4.60e+00  4.90e+00]]\n"
     ]
    }
   ],
   "source": [
    "#representing vectors y_pred and y_test into vertical column to comapare \n",
    "np.set_printoptions(precision=2)\n",
    "a=np.concatenate((y_pred.reshape(len(y_pred),1),y_test.reshape(len(y_test),1)),1)\n",
    "print(a)"
   ]
  },
  {
   "cell_type": "markdown",
   "id": "8d0828e8",
   "metadata": {},
   "source": [
    "# Polynomial Regression based of price vs No of items in stock prediction"
   ]
  },
  {
   "cell_type": "code",
   "execution_count": 104,
   "id": "1ef06841",
   "metadata": {},
   "outputs": [
    {
     "data": {
      "text/html": [
       "<div>\n",
       "<style scoped>\n",
       "    .dataframe tbody tr th:only-of-type {\n",
       "        vertical-align: middle;\n",
       "    }\n",
       "\n",
       "    .dataframe tbody tr th {\n",
       "        vertical-align: top;\n",
       "    }\n",
       "\n",
       "    .dataframe thead th {\n",
       "        text-align: right;\n",
       "    }\n",
       "</style>\n",
       "<table border=\"1\" class=\"dataframe\">\n",
       "  <thead>\n",
       "    <tr style=\"text-align: right;\">\n",
       "      <th></th>\n",
       "      <th>Rating</th>\n",
       "      <th>No of stocks</th>\n",
       "    </tr>\n",
       "  </thead>\n",
       "  <tbody>\n",
       "    <tr>\n",
       "      <th>0</th>\n",
       "      <td>0.0</td>\n",
       "      <td>22</td>\n",
       "    </tr>\n",
       "    <tr>\n",
       "      <th>1</th>\n",
       "      <td>2.3</td>\n",
       "      <td>1</td>\n",
       "    </tr>\n",
       "  </tbody>\n",
       "</table>\n",
       "</div>"
      ],
      "text/plain": [
       "   Rating  No of stocks\n",
       "0     0.0            22\n",
       "1     2.3             1"
      ]
     },
     "execution_count": 104,
     "metadata": {},
     "output_type": "execute_result"
    }
   ],
   "source": [
    "fdd=pd.DataFrame({'Rating':dff['Rating'],'No of stocks':dff['No of stocks']})\n",
    "fdd.head(2)\n"
   ]
  },
  {
   "cell_type": "code",
   "execution_count": 105,
   "id": "97f3d463",
   "metadata": {},
   "outputs": [
    {
     "data": {
      "text/plain": [
       "22"
      ]
     },
     "execution_count": 105,
     "metadata": {},
     "output_type": "execute_result"
    }
   ],
   "source": [
    "x=fdd.iloc[:,:-1]#only price\n",
    "y=fdd.iloc[:,-1]\n",
    "y[0]"
   ]
  },
  {
   "cell_type": "code",
   "execution_count": 106,
   "id": "05b38088",
   "metadata": {},
   "outputs": [
    {
     "data": {
      "text/html": [
       "<style>#sk-container-id-2 {color: black;}#sk-container-id-2 pre{padding: 0;}#sk-container-id-2 div.sk-toggleable {background-color: white;}#sk-container-id-2 label.sk-toggleable__label {cursor: pointer;display: block;width: 100%;margin-bottom: 0;padding: 0.3em;box-sizing: border-box;text-align: center;}#sk-container-id-2 label.sk-toggleable__label-arrow:before {content: \"▸\";float: left;margin-right: 0.25em;color: #696969;}#sk-container-id-2 label.sk-toggleable__label-arrow:hover:before {color: black;}#sk-container-id-2 div.sk-estimator:hover label.sk-toggleable__label-arrow:before {color: black;}#sk-container-id-2 div.sk-toggleable__content {max-height: 0;max-width: 0;overflow: hidden;text-align: left;background-color: #f0f8ff;}#sk-container-id-2 div.sk-toggleable__content pre {margin: 0.2em;color: black;border-radius: 0.25em;background-color: #f0f8ff;}#sk-container-id-2 input.sk-toggleable__control:checked~div.sk-toggleable__content {max-height: 200px;max-width: 100%;overflow: auto;}#sk-container-id-2 input.sk-toggleable__control:checked~label.sk-toggleable__label-arrow:before {content: \"▾\";}#sk-container-id-2 div.sk-estimator input.sk-toggleable__control:checked~label.sk-toggleable__label {background-color: #d4ebff;}#sk-container-id-2 div.sk-label input.sk-toggleable__control:checked~label.sk-toggleable__label {background-color: #d4ebff;}#sk-container-id-2 input.sk-hidden--visually {border: 0;clip: rect(1px 1px 1px 1px);clip: rect(1px, 1px, 1px, 1px);height: 1px;margin: -1px;overflow: hidden;padding: 0;position: absolute;width: 1px;}#sk-container-id-2 div.sk-estimator {font-family: monospace;background-color: #f0f8ff;border: 1px dotted black;border-radius: 0.25em;box-sizing: border-box;margin-bottom: 0.5em;}#sk-container-id-2 div.sk-estimator:hover {background-color: #d4ebff;}#sk-container-id-2 div.sk-parallel-item::after {content: \"\";width: 100%;border-bottom: 1px solid gray;flex-grow: 1;}#sk-container-id-2 div.sk-label:hover label.sk-toggleable__label {background-color: #d4ebff;}#sk-container-id-2 div.sk-serial::before {content: \"\";position: absolute;border-left: 1px solid gray;box-sizing: border-box;top: 0;bottom: 0;left: 50%;z-index: 0;}#sk-container-id-2 div.sk-serial {display: flex;flex-direction: column;align-items: center;background-color: white;padding-right: 0.2em;padding-left: 0.2em;position: relative;}#sk-container-id-2 div.sk-item {position: relative;z-index: 1;}#sk-container-id-2 div.sk-parallel {display: flex;align-items: stretch;justify-content: center;background-color: white;position: relative;}#sk-container-id-2 div.sk-item::before, #sk-container-id-2 div.sk-parallel-item::before {content: \"\";position: absolute;border-left: 1px solid gray;box-sizing: border-box;top: 0;bottom: 0;left: 50%;z-index: -1;}#sk-container-id-2 div.sk-parallel-item {display: flex;flex-direction: column;z-index: 1;position: relative;background-color: white;}#sk-container-id-2 div.sk-parallel-item:first-child::after {align-self: flex-end;width: 50%;}#sk-container-id-2 div.sk-parallel-item:last-child::after {align-self: flex-start;width: 50%;}#sk-container-id-2 div.sk-parallel-item:only-child::after {width: 0;}#sk-container-id-2 div.sk-dashed-wrapped {border: 1px dashed gray;margin: 0 0.4em 0.5em 0.4em;box-sizing: border-box;padding-bottom: 0.4em;background-color: white;}#sk-container-id-2 div.sk-label label {font-family: monospace;font-weight: bold;display: inline-block;line-height: 1.2em;}#sk-container-id-2 div.sk-label-container {text-align: center;}#sk-container-id-2 div.sk-container {/* jupyter's `normalize.less` sets `[hidden] { display: none; }` but bootstrap.min.css set `[hidden] { display: none !important; }` so we also need the `!important` here to be able to override the default hidden behavior on the sphinx rendered scikit-learn.org. See: https://github.com/scikit-learn/scikit-learn/issues/21755 */display: inline-block !important;position: relative;}#sk-container-id-2 div.sk-text-repr-fallback {display: none;}</style><div id=\"sk-container-id-2\" class=\"sk-top-container\"><div class=\"sk-text-repr-fallback\"><pre>LinearRegression()</pre><b>In a Jupyter environment, please rerun this cell to show the HTML representation or trust the notebook. <br />On GitHub, the HTML representation is unable to render, please try loading this page with nbviewer.org.</b></div><div class=\"sk-container\" hidden><div class=\"sk-item\"><div class=\"sk-estimator sk-toggleable\"><input class=\"sk-toggleable__control sk-hidden--visually\" id=\"sk-estimator-id-2\" type=\"checkbox\" checked><label for=\"sk-estimator-id-2\" class=\"sk-toggleable__label sk-toggleable__label-arrow\">LinearRegression</label><div class=\"sk-toggleable__content\"><pre>LinearRegression()</pre></div></div></div></div></div>"
      ],
      "text/plain": [
       "LinearRegression()"
      ]
     },
     "execution_count": 106,
     "metadata": {},
     "output_type": "execute_result"
    }
   ],
   "source": [
    "from sklearn.preprocessing import PolynomialFeatures\n",
    "from sklearn.linear_model import LinearRegression\n",
    "poly_reg=PolynomialFeatures(degree=3)\n",
    "x_poly=poly_reg.fit_transform(x)\n",
    "linear_regg=LinearRegression()\n",
    "linear_regg.fit(x_poly,y)\n",
    "\n"
   ]
  },
  {
   "cell_type": "code",
   "execution_count": 107,
   "id": "087a93e5",
   "metadata": {},
   "outputs": [
    {
     "data": {
      "text/plain": [
       "Text(0.5, 1.0, 'Rating of Product')"
      ]
     },
     "execution_count": 107,
     "metadata": {},
     "output_type": "execute_result"
    },
    {
     "data": {
      "image/png": "[encoded data removed]",
      "text/plain": [
       "<Figure size 1000x600 with 1 Axes>"
      ]
     },
     "metadata": {},
     "output_type": "display_data"
    }
   ],
   "source": [
    "plt.figure(figsize=(10,6))\n",
    "plt.scatter(x,y,color='red')\n",
    "\n",
    "plt.plot(x,linear_regg.predict(x_poly))    \n",
    "#plt.style.use('threefivetyeight')\n",
    "plt.xlabel('Rating')\n",
    "plt.ylabel('No.Stock')\n",
    "plt.title('Rating of Product')"
   ]
  },
  {
   "cell_type": "code",
   "execution_count": 108,
   "id": "b1c91820",
   "metadata": {},
   "outputs": [
    {
     "data": {
      "text/plain": [
       "array([439.35])"
      ]
     },
     "execution_count": 108,
     "metadata": {},
     "output_type": "execute_result"
    }
   ],
   "source": [
    "# to predict a certain rating\n",
    "linear_regg.predict(poly_reg.fit_transform([[4.3]]))"
   ]
  },
  {
   "cell_type": "code",
   "execution_count": null,
   "id": "adde5e82",
   "metadata": {},
   "outputs": [],
   "source": []
  },
  {
   "cell_type": "code",
   "execution_count": null,
   "id": "eed78d8d",
   "metadata": {},
   "outputs": [],
   "source": []
  }
 ],
 "metadata": {
  "kernelspec": {
   "display_name": "Python 3 (ipykernel)",
   "language": "python",
   "name": "python3"
  },
  "language_info": {
   "codemirror_mode": {
    "name": "ipython",
    "version": 3
   },
   "file_extension": ".py",
   "mimetype": "text/x-python",
   "name": "python",
   "nbconvert_exporter": "python",
   "pygments_lexer": "ipython3",
   "version": "3.11.3"
  }
 },
 "nbformat": 4,
 "nbformat_minor": 5
}
